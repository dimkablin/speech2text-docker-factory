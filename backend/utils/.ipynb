{
 "cells": [
  {
   "cell_type": "code",
   "execution_count": 1,
   "metadata": {},
   "outputs": [
    {
     "name": "stdout",
     "output_type": "stream",
     "text": [
      "Сервисы из docker-compose.yml:\n",
      "Сервис: speech2text-whisper-small\n",
      "\n",
      "Запущенные модели:\n"
     ]
    }
   ],
   "source": [
    "import docker\n",
    "import yaml\n",
    "\n",
    "def get_running_models(client, services):\n",
    "    containers = client.containers.list()\n",
    "    models = [container for container in containers if container.name in services]\n",
    "    return models\n",
    "\n",
    "def get_internal_ports(container):\n",
    "    ports = container.attrs['NetworkSettings']['Ports']\n",
    "    internal_ports = [port.split(\"/\")[0] for port in ports.keys() if ports[port]]\n",
    "    return internal_ports\n",
    "\n",
    "def get_compose_services(compose_file):\n",
    "    with open(compose_file, 'r') as file:\n",
    "        compose_data = yaml.safe_load(file)\n",
    "    \n",
    "    services = compose_data.get('services', {})\n",
    "    speech2text_services = [service_name for service_name in services if service_name.startswith('speech2text')]\n",
    "    \n",
    "    return speech2text_services\n",
    "\n",
    "\n",
    "client = docker.from_env()\n",
    "\n",
    "compose_file_path = '../docker-compose.yml'\n",
    "speech2text_services = get_compose_services(compose_file_path)\n",
    "print(\"Сервисы из docker-compose.yml:\")\n",
    "for service in speech2text_services:\n",
    "    print(f\"Сервис: {service}\")\n",
    "\n",
    "running_models = get_running_models(client, speech2text_services)\n",
    "print(\"\\nЗапущенные модели:\")\n",
    "\n",
    "for model in running_models:\n",
    "    internal_ports = get_internal_ports(model)\n",
    "    if internal_ports:\n",
    "        for internal_port in internal_ports:\n",
    "            url = f\"http://{model.name}:{internal_port}/\"\n",
    "            print(f\"Сервис: {model.name}, URL: {url}\")\n",
    "    else:\n",
    "        print(f\"Сервис: {model.name}, Внутренние порты не найдены\")\n",
    "\n"
   ]
  },
  {
   "cell_type": "code",
   "execution_count": 12,
   "metadata": {},
   "outputs": [
    {
     "data": {
      "text/plain": [
       "{'Platform': {'Name': 'Docker Engine - Community'},\n",
       " 'Components': [{'Name': 'Engine',\n",
       "   'Version': '26.1.4',\n",
       "   'Details': {'ApiVersion': '1.45',\n",
       "    'Arch': 'amd64',\n",
       "    'BuildTime': '2024-06-05T11:28:55.000000000+00:00',\n",
       "    'Experimental': 'false',\n",
       "    'GitCommit': 'de5c9cf',\n",
       "    'GoVersion': 'go1.21.11',\n",
       "    'KernelVersion': '6.5.0-41-generic',\n",
       "    'MinAPIVersion': '1.24',\n",
       "    'Os': 'linux'}},\n",
       "  {'Name': 'containerd',\n",
       "   'Version': '1.6.33',\n",
       "   'Details': {'GitCommit': 'd2d58213f83a351ca8f528a95fbd145f5654e957'}},\n",
       "  {'Name': 'runc',\n",
       "   'Version': '1.1.12',\n",
       "   'Details': {'GitCommit': 'v1.1.12-0-g51d5e94'}},\n",
       "  {'Name': 'docker-init',\n",
       "   'Version': '0.19.0',\n",
       "   'Details': {'GitCommit': 'de40ad0'}}],\n",
       " 'Version': '26.1.4',\n",
       " 'ApiVersion': '1.45',\n",
       " 'MinAPIVersion': '1.24',\n",
       " 'GitCommit': 'de5c9cf',\n",
       " 'GoVersion': 'go1.21.11',\n",
       " 'Os': 'linux',\n",
       " 'Arch': 'amd64',\n",
       " 'KernelVersion': '6.5.0-41-generic',\n",
       " 'BuildTime': '2024-06-05T11:28:55.000000000+00:00'}"
      ]
     },
     "execution_count": 12,
     "metadata": {},
     "output_type": "execute_result"
    }
   ],
   "source": [
    "client.version()"
   ]
  },
  {
   "cell_type": "code",
   "execution_count": 19,
   "metadata": {},
   "outputs": [],
   "source": [
    "container = client.containers.get(\"06de068042bd\")"
   ]
  },
  {
   "cell_type": "code",
   "execution_count": 26,
   "metadata": {},
   "outputs": [
    {
     "name": "stdout",
     "output_type": "stream",
     "text": [
      "b\"INFO:     Will watch for changes in these directories: ['/app/src']\\n\"\n",
      "b'INFO:     Uvicorn running on https://0.0.0.0:8000 (Press CTRL+C to quit)\\n'\n",
      "b'INFO:     Started reloader process [1] using WatchFiles\\n'\n",
      "b'Special tokens have been added in the vocabulary, make sure the associated word embeddings are fine-tuned or trained.\\n'\n",
      "b\"/usr/local/lib/python3.10/site-packages/gradio/interface.py:382: UserWarning: The `allow_flagging` parameter in `Interface` nowtakes a string value ('auto', 'manual', or 'never'), not a boolean. Setting parameter to: 'never'.\\n\"\n",
      "b'  warnings.warn(\\n'\n",
      "b'2024-06-19 09:36:16,730 - INFO - Running speech2text models.\\n'\n",
      "b'INFO:     Started server process [8]\\n'\n",
      "b'INFO:     Waiting for application startup.\\n'\n",
      "b'INFO:     Application startup complete.\\n'\n",
      "b'2024-06-19 09:36:16,866 - INFO - HTTP Request: GET https://checkip.amazonaws.com/ \"HTTP/1.1 200 \"\\n'\n",
      "b'2024-06-19 09:36:16,916 - INFO - HTTP Request: GET https://checkip.amazonaws.com/ \"HTTP/1.1 200 \"\\n'\n",
      "b'2024-06-19 09:36:17,470 - INFO - HTTP Request: GET https://api.gradio.app/pkg-version \"HTTP/1.1 200 OK\"\\n'\n",
      "b'2024-06-19 09:36:17,499 - INFO - HTTP Request: GET https://api.gradio.app/pkg-version \"HTTP/1.1 200 OK\"\\n'\n"
     ]
    },
    {
     "ename": "KeyboardInterrupt",
     "evalue": "",
     "output_type": "error",
     "traceback": [
      "\u001b[0;31m---------------------------------------------------------------------------\u001b[0m",
      "\u001b[0;31mKeyboardInterrupt\u001b[0m                         Traceback (most recent call last)",
      "Cell \u001b[0;32mIn[26], line 1\u001b[0m\n\u001b[0;32m----> 1\u001b[0m \u001b[38;5;28;01mfor\u001b[39;00m log \u001b[38;5;129;01min\u001b[39;00m container\u001b[38;5;241m.\u001b[39mlogs(stream\u001b[38;5;241m=\u001b[39m\u001b[38;5;28;01mTrue\u001b[39;00m):\n\u001b[1;32m      2\u001b[0m     \u001b[38;5;28mprint\u001b[39m(log)\n",
      "File \u001b[0;32m~/anaconda3/lib/python3.11/site-packages/docker/types/daemon.py:29\u001b[0m, in \u001b[0;36mCancellableStream.__next__\u001b[0;34m(self)\u001b[0m\n\u001b[1;32m     27\u001b[0m \u001b[38;5;28;01mdef\u001b[39;00m \u001b[38;5;21m__next__\u001b[39m(\u001b[38;5;28mself\u001b[39m):\n\u001b[1;32m     28\u001b[0m     \u001b[38;5;28;01mtry\u001b[39;00m:\n\u001b[0;32m---> 29\u001b[0m         \u001b[38;5;28;01mreturn\u001b[39;00m \u001b[38;5;28mnext\u001b[39m(\u001b[38;5;28mself\u001b[39m\u001b[38;5;241m.\u001b[39m_stream)\n\u001b[1;32m     30\u001b[0m     \u001b[38;5;28;01mexcept\u001b[39;00m urllib3\u001b[38;5;241m.\u001b[39mexceptions\u001b[38;5;241m.\u001b[39mProtocolError:\n\u001b[1;32m     31\u001b[0m         \u001b[38;5;28;01mraise\u001b[39;00m \u001b[38;5;167;01mStopIteration\u001b[39;00m \u001b[38;5;28;01mfrom\u001b[39;00m \u001b[38;5;28;01mNone\u001b[39;00m\n",
      "File \u001b[0;32m~/anaconda3/lib/python3.11/site-packages/docker/api/client.py:402\u001b[0m, in \u001b[0;36mAPIClient._multiplexed_response_stream_helper\u001b[0;34m(self, response)\u001b[0m\n\u001b[1;32m    399\u001b[0m \u001b[38;5;28mself\u001b[39m\u001b[38;5;241m.\u001b[39m_disable_socket_timeout(socket)\n\u001b[1;32m    401\u001b[0m \u001b[38;5;28;01mwhile\u001b[39;00m \u001b[38;5;28;01mTrue\u001b[39;00m:\n\u001b[0;32m--> 402\u001b[0m     header \u001b[38;5;241m=\u001b[39m response\u001b[38;5;241m.\u001b[39mraw\u001b[38;5;241m.\u001b[39mread(STREAM_HEADER_SIZE_BYTES)\n\u001b[1;32m    403\u001b[0m     \u001b[38;5;28;01mif\u001b[39;00m \u001b[38;5;129;01mnot\u001b[39;00m header:\n\u001b[1;32m    404\u001b[0m         \u001b[38;5;28;01mbreak\u001b[39;00m\n",
      "File \u001b[0;32m~/anaconda3/lib/python3.11/site-packages/urllib3/response.py:935\u001b[0m, in \u001b[0;36mHTTPResponse.read\u001b[0;34m(self, amt, decode_content, cache_content)\u001b[0m\n\u001b[1;32m    932\u001b[0m     \u001b[38;5;28;01mif\u001b[39;00m \u001b[38;5;28mlen\u001b[39m(\u001b[38;5;28mself\u001b[39m\u001b[38;5;241m.\u001b[39m_decoded_buffer) \u001b[38;5;241m>\u001b[39m\u001b[38;5;241m=\u001b[39m amt:\n\u001b[1;32m    933\u001b[0m         \u001b[38;5;28;01mreturn\u001b[39;00m \u001b[38;5;28mself\u001b[39m\u001b[38;5;241m.\u001b[39m_decoded_buffer\u001b[38;5;241m.\u001b[39mget(amt)\n\u001b[0;32m--> 935\u001b[0m data \u001b[38;5;241m=\u001b[39m \u001b[38;5;28mself\u001b[39m\u001b[38;5;241m.\u001b[39m_raw_read(amt)\n\u001b[1;32m    937\u001b[0m flush_decoder \u001b[38;5;241m=\u001b[39m amt \u001b[38;5;129;01mis\u001b[39;00m \u001b[38;5;28;01mNone\u001b[39;00m \u001b[38;5;129;01mor\u001b[39;00m (amt \u001b[38;5;241m!=\u001b[39m \u001b[38;5;241m0\u001b[39m \u001b[38;5;129;01mand\u001b[39;00m \u001b[38;5;129;01mnot\u001b[39;00m data)\n\u001b[1;32m    939\u001b[0m \u001b[38;5;28;01mif\u001b[39;00m \u001b[38;5;129;01mnot\u001b[39;00m data \u001b[38;5;129;01mand\u001b[39;00m \u001b[38;5;28mlen\u001b[39m(\u001b[38;5;28mself\u001b[39m\u001b[38;5;241m.\u001b[39m_decoded_buffer) \u001b[38;5;241m==\u001b[39m \u001b[38;5;241m0\u001b[39m:\n",
      "File \u001b[0;32m~/anaconda3/lib/python3.11/site-packages/urllib3/response.py:862\u001b[0m, in \u001b[0;36mHTTPResponse._raw_read\u001b[0;34m(self, amt, read1)\u001b[0m\n\u001b[1;32m    859\u001b[0m fp_closed \u001b[38;5;241m=\u001b[39m \u001b[38;5;28mgetattr\u001b[39m(\u001b[38;5;28mself\u001b[39m\u001b[38;5;241m.\u001b[39m_fp, \u001b[38;5;124m\"\u001b[39m\u001b[38;5;124mclosed\u001b[39m\u001b[38;5;124m\"\u001b[39m, \u001b[38;5;28;01mFalse\u001b[39;00m)\n\u001b[1;32m    861\u001b[0m \u001b[38;5;28;01mwith\u001b[39;00m \u001b[38;5;28mself\u001b[39m\u001b[38;5;241m.\u001b[39m_error_catcher():\n\u001b[0;32m--> 862\u001b[0m     data \u001b[38;5;241m=\u001b[39m \u001b[38;5;28mself\u001b[39m\u001b[38;5;241m.\u001b[39m_fp_read(amt, read1\u001b[38;5;241m=\u001b[39mread1) \u001b[38;5;28;01mif\u001b[39;00m \u001b[38;5;129;01mnot\u001b[39;00m fp_closed \u001b[38;5;28;01melse\u001b[39;00m \u001b[38;5;124mb\u001b[39m\u001b[38;5;124m\"\u001b[39m\u001b[38;5;124m\"\u001b[39m\n\u001b[1;32m    863\u001b[0m     \u001b[38;5;28;01mif\u001b[39;00m amt \u001b[38;5;129;01mis\u001b[39;00m \u001b[38;5;129;01mnot\u001b[39;00m \u001b[38;5;28;01mNone\u001b[39;00m \u001b[38;5;129;01mand\u001b[39;00m amt \u001b[38;5;241m!=\u001b[39m \u001b[38;5;241m0\u001b[39m \u001b[38;5;129;01mand\u001b[39;00m \u001b[38;5;129;01mnot\u001b[39;00m data:\n\u001b[1;32m    864\u001b[0m         \u001b[38;5;66;03m# Platform-specific: Buggy versions of Python.\u001b[39;00m\n\u001b[1;32m    865\u001b[0m         \u001b[38;5;66;03m# Close the connection when no data is returned\u001b[39;00m\n\u001b[0;32m   (...)\u001b[0m\n\u001b[1;32m    870\u001b[0m         \u001b[38;5;66;03m# not properly close the connection in all cases. There is\u001b[39;00m\n\u001b[1;32m    871\u001b[0m         \u001b[38;5;66;03m# no harm in redundantly calling close.\u001b[39;00m\n\u001b[1;32m    872\u001b[0m         \u001b[38;5;28mself\u001b[39m\u001b[38;5;241m.\u001b[39m_fp\u001b[38;5;241m.\u001b[39mclose()\n",
      "File \u001b[0;32m~/anaconda3/lib/python3.11/site-packages/urllib3/response.py:845\u001b[0m, in \u001b[0;36mHTTPResponse._fp_read\u001b[0;34m(self, amt, read1)\u001b[0m\n\u001b[1;32m    842\u001b[0m     \u001b[38;5;28;01mreturn\u001b[39;00m \u001b[38;5;28mself\u001b[39m\u001b[38;5;241m.\u001b[39m_fp\u001b[38;5;241m.\u001b[39mread1(amt) \u001b[38;5;28;01mif\u001b[39;00m amt \u001b[38;5;129;01mis\u001b[39;00m \u001b[38;5;129;01mnot\u001b[39;00m \u001b[38;5;28;01mNone\u001b[39;00m \u001b[38;5;28;01melse\u001b[39;00m \u001b[38;5;28mself\u001b[39m\u001b[38;5;241m.\u001b[39m_fp\u001b[38;5;241m.\u001b[39mread1()\n\u001b[1;32m    843\u001b[0m \u001b[38;5;28;01melse\u001b[39;00m:\n\u001b[1;32m    844\u001b[0m     \u001b[38;5;66;03m# StringIO doesn't like amt=None\u001b[39;00m\n\u001b[0;32m--> 845\u001b[0m     \u001b[38;5;28;01mreturn\u001b[39;00m \u001b[38;5;28mself\u001b[39m\u001b[38;5;241m.\u001b[39m_fp\u001b[38;5;241m.\u001b[39mread(amt) \u001b[38;5;28;01mif\u001b[39;00m amt \u001b[38;5;129;01mis\u001b[39;00m \u001b[38;5;129;01mnot\u001b[39;00m \u001b[38;5;28;01mNone\u001b[39;00m \u001b[38;5;28;01melse\u001b[39;00m \u001b[38;5;28mself\u001b[39m\u001b[38;5;241m.\u001b[39m_fp\u001b[38;5;241m.\u001b[39mread()\n",
      "File \u001b[0;32m~/anaconda3/lib/python3.11/http/client.py:467\u001b[0m, in \u001b[0;36mHTTPResponse.read\u001b[0;34m(self, amt)\u001b[0m\n\u001b[1;32m    464\u001b[0m     \u001b[38;5;28;01mreturn\u001b[39;00m \u001b[38;5;124mb\u001b[39m\u001b[38;5;124m\"\u001b[39m\u001b[38;5;124m\"\u001b[39m\n\u001b[1;32m    466\u001b[0m \u001b[38;5;28;01mif\u001b[39;00m \u001b[38;5;28mself\u001b[39m\u001b[38;5;241m.\u001b[39mchunked:\n\u001b[0;32m--> 467\u001b[0m     \u001b[38;5;28;01mreturn\u001b[39;00m \u001b[38;5;28mself\u001b[39m\u001b[38;5;241m.\u001b[39m_read_chunked(amt)\n\u001b[1;32m    469\u001b[0m \u001b[38;5;28;01mif\u001b[39;00m amt \u001b[38;5;129;01mis\u001b[39;00m \u001b[38;5;129;01mnot\u001b[39;00m \u001b[38;5;28;01mNone\u001b[39;00m:\n\u001b[1;32m    470\u001b[0m     \u001b[38;5;28;01mif\u001b[39;00m \u001b[38;5;28mself\u001b[39m\u001b[38;5;241m.\u001b[39mlength \u001b[38;5;129;01mis\u001b[39;00m \u001b[38;5;129;01mnot\u001b[39;00m \u001b[38;5;28;01mNone\u001b[39;00m \u001b[38;5;129;01mand\u001b[39;00m amt \u001b[38;5;241m>\u001b[39m \u001b[38;5;28mself\u001b[39m\u001b[38;5;241m.\u001b[39mlength:\n\u001b[1;32m    471\u001b[0m         \u001b[38;5;66;03m# clip the read to the \"end of response\"\u001b[39;00m\n",
      "File \u001b[0;32m~/anaconda3/lib/python3.11/http/client.py:590\u001b[0m, in \u001b[0;36mHTTPResponse._read_chunked\u001b[0;34m(self, amt)\u001b[0m\n\u001b[1;32m    588\u001b[0m \u001b[38;5;28;01mtry\u001b[39;00m:\n\u001b[1;32m    589\u001b[0m     \u001b[38;5;28;01mwhile\u001b[39;00m \u001b[38;5;28;01mTrue\u001b[39;00m:\n\u001b[0;32m--> 590\u001b[0m         chunk_left \u001b[38;5;241m=\u001b[39m \u001b[38;5;28mself\u001b[39m\u001b[38;5;241m.\u001b[39m_get_chunk_left()\n\u001b[1;32m    591\u001b[0m         \u001b[38;5;28;01mif\u001b[39;00m chunk_left \u001b[38;5;129;01mis\u001b[39;00m \u001b[38;5;28;01mNone\u001b[39;00m:\n\u001b[1;32m    592\u001b[0m             \u001b[38;5;28;01mbreak\u001b[39;00m\n",
      "File \u001b[0;32m~/anaconda3/lib/python3.11/http/client.py:573\u001b[0m, in \u001b[0;36mHTTPResponse._get_chunk_left\u001b[0;34m(self)\u001b[0m\n\u001b[1;32m    571\u001b[0m     \u001b[38;5;28mself\u001b[39m\u001b[38;5;241m.\u001b[39m_safe_read(\u001b[38;5;241m2\u001b[39m)  \u001b[38;5;66;03m# toss the CRLF at the end of the chunk\u001b[39;00m\n\u001b[1;32m    572\u001b[0m \u001b[38;5;28;01mtry\u001b[39;00m:\n\u001b[0;32m--> 573\u001b[0m     chunk_left \u001b[38;5;241m=\u001b[39m \u001b[38;5;28mself\u001b[39m\u001b[38;5;241m.\u001b[39m_read_next_chunk_size()\n\u001b[1;32m    574\u001b[0m \u001b[38;5;28;01mexcept\u001b[39;00m \u001b[38;5;167;01mValueError\u001b[39;00m:\n\u001b[1;32m    575\u001b[0m     \u001b[38;5;28;01mraise\u001b[39;00m IncompleteRead(\u001b[38;5;124mb\u001b[39m\u001b[38;5;124m'\u001b[39m\u001b[38;5;124m'\u001b[39m)\n",
      "File \u001b[0;32m~/anaconda3/lib/python3.11/http/client.py:533\u001b[0m, in \u001b[0;36mHTTPResponse._read_next_chunk_size\u001b[0;34m(self)\u001b[0m\n\u001b[1;32m    531\u001b[0m \u001b[38;5;28;01mdef\u001b[39;00m \u001b[38;5;21m_read_next_chunk_size\u001b[39m(\u001b[38;5;28mself\u001b[39m):\n\u001b[1;32m    532\u001b[0m     \u001b[38;5;66;03m# Read the next chunk size from the file\u001b[39;00m\n\u001b[0;32m--> 533\u001b[0m     line \u001b[38;5;241m=\u001b[39m \u001b[38;5;28mself\u001b[39m\u001b[38;5;241m.\u001b[39mfp\u001b[38;5;241m.\u001b[39mreadline(_MAXLINE \u001b[38;5;241m+\u001b[39m \u001b[38;5;241m1\u001b[39m)\n\u001b[1;32m    534\u001b[0m     \u001b[38;5;28;01mif\u001b[39;00m \u001b[38;5;28mlen\u001b[39m(line) \u001b[38;5;241m>\u001b[39m _MAXLINE:\n\u001b[1;32m    535\u001b[0m         \u001b[38;5;28;01mraise\u001b[39;00m LineTooLong(\u001b[38;5;124m\"\u001b[39m\u001b[38;5;124mchunk size\u001b[39m\u001b[38;5;124m\"\u001b[39m)\n",
      "File \u001b[0;32m~/anaconda3/lib/python3.11/socket.py:706\u001b[0m, in \u001b[0;36mSocketIO.readinto\u001b[0;34m(self, b)\u001b[0m\n\u001b[1;32m    704\u001b[0m \u001b[38;5;28;01mwhile\u001b[39;00m \u001b[38;5;28;01mTrue\u001b[39;00m:\n\u001b[1;32m    705\u001b[0m     \u001b[38;5;28;01mtry\u001b[39;00m:\n\u001b[0;32m--> 706\u001b[0m         \u001b[38;5;28;01mreturn\u001b[39;00m \u001b[38;5;28mself\u001b[39m\u001b[38;5;241m.\u001b[39m_sock\u001b[38;5;241m.\u001b[39mrecv_into(b)\n\u001b[1;32m    707\u001b[0m     \u001b[38;5;28;01mexcept\u001b[39;00m timeout:\n\u001b[1;32m    708\u001b[0m         \u001b[38;5;28mself\u001b[39m\u001b[38;5;241m.\u001b[39m_timeout_occurred \u001b[38;5;241m=\u001b[39m \u001b[38;5;28;01mTrue\u001b[39;00m\n",
      "\u001b[0;31mKeyboardInterrupt\u001b[0m: "
     ]
    }
   ],
   "source": [
    "for log in container.logs(stream=True):\n",
    "    print(log)"
   ]
  },
  {
   "cell_type": "code",
   "execution_count": 28,
   "metadata": {},
   "outputs": [
    {
     "name": "stdout",
     "output_type": "stream",
     "text": [
      "b'{\"read\":\"2024-06-19T10:45:00.641555547Z\",\"preread\":\"0001-01-01T00:00:00Z\",\"pids_stats\":{\"current\":25,\"limit\":47889},\"blkio_stats\":{\"io_service_bytes_recursive\":[{\"major\":259,\"minor\":2,\"op\":\"read\",\"value\":381169664},{\"major\":259,\"minor\":2,\"op\":\"write\",\"value\":972136448}],\"io_serviced_recursive\":null,\"io_queue_recursive\":null,\"io_service_time_recursive\":null,\"io_wait_time_recursive\":null,\"io_merged_recursive\":null,\"io_time_recursive\":null,\"sectors_recursive\":null},\"num_procs\":0,\"storage_stats\":{},\"cpu_stats\":{\"cpu_usage\":{\"total_usage\":35581710000,\"usage_in_kernelmode\":10734302000,\"usage_in_usermode\":24847407000},\"system_cpu_usage\":43551470000000,\"online_cpus\":8,\"throttling_data\":{\"periods\":0,\"throttled_periods\":0,\"throttled_time\":0}},\"precpu_stats\":{\"cpu_usage\":{\"total_usage\":0,\"usage_in_kernelmode\":0,\"usage_in_usermode\":0},\"throttling_data\":{\"periods\":0,\"throttled_periods\":0,\"throttled_time\":0}},\"memory_stats\":{\"usage\":2072231936,\"stats\":{\"active_anon\":658452480,\"active_file\":299003904,\"anon\":647979008,\"anon_thp\":0,\"file\":1363992576,\"file_dirty\":0,\"file_mapped\":230514688,\"file_writeback\":0,\"inactive_anon\":0,\"inactive_file\":1054498816,\"kernel_stack\":409600,\"pgactivate\":0,\"pgdeactivate\":0,\"pgfault\":221482,\"pglazyfree\":0,\"pglazyfreed\":0,\"pgmajfault\":1738,\"pgrefill\":0,\"pgscan\":0,\"pgsteal\":0,\"shmem\":10489856,\"slab\":56658432,\"slab_reclaimable\":55379664,\"slab_unreclaimable\":1278768,\"sock\":16384,\"thp_collapse_alloc\":0,\"thp_fault_alloc\":0,\"unevictable\":16384,\"workingset_activate\":0,\"workingset_nodereclaim\":0,\"workingset_refault\":0},\"limit\":41911865344},\"name\":\"/speech2text-whsiper-small\",\"id\":\"06de068042bd304372856ca1bff0de8facb3731aa33a3097dbd483d152dc9d3f\",\"networks\":{\"eth0\":{\"rx_bytes\":981293325,\"rx_packets\":127754,\"rx_errors\":0,\"rx_dropped\":0,\"tx_bytes\":5751174,\"tx_packets\":76647,\"tx_errors\":0,\"tx_dropped\":0}}}\\n'\n",
      "b'{\"read\":\"2024-06-19T10:45:01.643565161Z\",\"preread\":\"2024-06-19T10:45:00.641555547Z\",\"pids_stats\":{\"current\":25,\"limit\":47889},\"blkio_stats\":{\"io_service_bytes_recursive\":[{\"major\":259,\"minor\":2,\"op\":\"read\",\"value\":381169664},{\"major\":259,\"minor\":2,\"op\":\"write\",\"value\":972136448}],\"io_serviced_recursive\":null,\"io_queue_recursive\":null,\"io_service_time_recursive\":null,\"io_wait_time_recursive\":null,\"io_merged_recursive\":null,\"io_time_recursive\":null,\"sectors_recursive\":null},\"num_procs\":0,\"storage_stats\":{},\"cpu_stats\":{\"cpu_usage\":{\"total_usage\":35606308000,\"usage_in_kernelmode\":10758340000,\"usage_in_usermode\":24847967000},\"system_cpu_usage\":43559300000000,\"online_cpus\":8,\"throttling_data\":{\"periods\":0,\"throttled_periods\":0,\"throttled_time\":0}},\"precpu_stats\":{\"cpu_usage\":{\"total_usage\":35581710000,\"usage_in_kernelmode\":10734302000,\"usage_in_usermode\":24847407000},\"system_cpu_usage\":43551470000000,\"online_cpus\":8,\"throttling_data\":{\"periods\":0,\"throttled_periods\":0,\"throttled_time\":0}},\"memory_stats\":{\"usage\":2072231936,\"stats\":{\"active_anon\":658452480,\"active_file\":299003904,\"anon\":647979008,\"anon_thp\":0,\"file\":1363992576,\"file_dirty\":0,\"file_mapped\":230514688,\"file_writeback\":0,\"inactive_anon\":0,\"inactive_file\":1054498816,\"kernel_stack\":409600,\"pgactivate\":0,\"pgdeactivate\":0,\"pgfault\":221482,\"pglazyfree\":0,\"pglazyfreed\":0,\"pgmajfault\":1738,\"pgrefill\":0,\"pgscan\":0,\"pgsteal\":0,\"shmem\":10489856,\"slab\":56658432,\"slab_reclaimable\":55379664,\"slab_unreclaimable\":1278768,\"sock\":16384,\"thp_collapse_alloc\":0,\"thp_fault_alloc\":0,\"unevictable\":16384,\"workingset_activate\":0,\"workingset_nodereclaim\":0,\"workingset_refault\":0},\"limit\":41911865344},\"name\":\"/speech2text-whsiper-small\",\"id\":\"06de068042bd304372856ca1bff0de8facb3731aa33a3097dbd483d152dc9d3f\",\"networks\":{\"eth0\":{\"rx_bytes\":981293325,\"rx_packets\":127754,\"rx_errors\":0,\"rx_dropped\":0,\"tx_bytes\":5751174,\"tx_packets\":76647,\"tx_errors\":0,\"tx_dropped\":0}}}\\n'\n",
      "b'{\"read\":\"2024-06-19T10:45:02.645506476Z\",\"preread\":\"2024-06-19T10:45:01.643565161Z\",\"pids_stats\":{\"current\":25,\"limit\":47889},\"blkio_stats\":{\"io_service_bytes_recursive\":[{\"major\":259,\"minor\":2,\"op\":\"read\",\"value\":381169664},{\"major\":259,\"minor\":2,\"op\":\"write\",\"value\":972136448}],\"io_serviced_recursive\":null,\"io_queue_recursive\":null,\"io_service_time_recursive\":null,\"io_wait_time_recursive\":null,\"io_merged_recursive\":null,\"io_time_recursive\":null,\"sectors_recursive\":null},\"num_procs\":0,\"storage_stats\":{},\"cpu_stats\":{\"cpu_usage\":{\"total_usage\":35623995000,\"usage_in_kernelmode\":10766919000,\"usage_in_usermode\":24857076000},\"system_cpu_usage\":43567170000000,\"online_cpus\":8,\"throttling_data\":{\"periods\":0,\"throttled_periods\":0,\"throttled_time\":0}},\"precpu_stats\":{\"cpu_usage\":{\"total_usage\":35606308000,\"usage_in_kernelmode\":10758340000,\"usage_in_usermode\":24847967000},\"system_cpu_usage\":43559300000000,\"online_cpus\":8,\"throttling_data\":{\"periods\":0,\"throttled_periods\":0,\"throttled_time\":0}},\"memory_stats\":{\"usage\":2072231936,\"stats\":{\"active_anon\":658452480,\"active_file\":299003904,\"anon\":647979008,\"anon_thp\":0,\"file\":1363992576,\"file_dirty\":0,\"file_mapped\":230514688,\"file_writeback\":0,\"inactive_anon\":0,\"inactive_file\":1054498816,\"kernel_stack\":409600,\"pgactivate\":0,\"pgdeactivate\":0,\"pgfault\":221482,\"pglazyfree\":0,\"pglazyfreed\":0,\"pgmajfault\":1738,\"pgrefill\":0,\"pgscan\":0,\"pgsteal\":0,\"shmem\":10489856,\"slab\":56658432,\"slab_reclaimable\":55379664,\"slab_unreclaimable\":1278768,\"sock\":16384,\"thp_collapse_alloc\":0,\"thp_fault_alloc\":0,\"unevictable\":16384,\"workingset_activate\":0,\"workingset_nodereclaim\":0,\"workingset_refault\":0},\"limit\":41911865344},\"name\":\"/speech2text-whsiper-small\",\"id\":\"06de068042bd304372856ca1bff0de8facb3731aa33a3097dbd483d152dc9d3f\",\"networks\":{\"eth0\":{\"rx_bytes\":981293325,\"rx_packets\":127754,\"rx_errors\":0,\"rx_dropped\":0,\"tx_bytes\":5751174,\"tx_packets\":76647,\"tx_errors\":0,\"tx_dropped\":0}}}\\n'\n",
      "b'{\"read\":\"2024-06-19T10:45:03.647339974Z\",\"preread\":\"2024-06-19T10:45:02.645506476Z\",\"pids_stats\":{\"current\":25,\"limit\":47889},\"blkio_stats\":{\"io_service_bytes_recursive\":[{\"major\":259,\"minor\":2,\"op\":\"read\",\"value\":381169664},{\"major\":259,\"minor\":2,\"op\":\"write\",\"value\":972136448}],\"io_serviced_recursive\":null,\"io_queue_recursive\":null,\"io_service_time_recursive\":null,\"io_wait_time_recursive\":null,\"io_merged_recursive\":null,\"io_time_recursive\":null,\"sectors_recursive\":null},\"num_procs\":0,\"storage_stats\":{},\"cpu_stats\":{\"cpu_usage\":{\"total_usage\":35639906000,\"usage_in_kernelmode\":10773561000,\"usage_in_usermode\":24866345000},\"system_cpu_usage\":43575030000000,\"online_cpus\":8,\"throttling_data\":{\"periods\":0,\"throttled_periods\":0,\"throttled_time\":0}},\"precpu_stats\":{\"cpu_usage\":{\"total_usage\":35623995000,\"usage_in_kernelmode\":10766919000,\"usage_in_usermode\":24857076000},\"system_cpu_usage\":43567170000000,\"online_cpus\":8,\"throttling_data\":{\"periods\":0,\"throttled_periods\":0,\"throttled_time\":0}},\"memory_stats\":{\"usage\":2072231936,\"stats\":{\"active_anon\":658452480,\"active_file\":299003904,\"anon\":647979008,\"anon_thp\":0,\"file\":1363992576,\"file_dirty\":0,\"file_mapped\":230514688,\"file_writeback\":0,\"inactive_anon\":0,\"inactive_file\":1054498816,\"kernel_stack\":409600,\"pgactivate\":0,\"pgdeactivate\":0,\"pgfault\":221482,\"pglazyfree\":0,\"pglazyfreed\":0,\"pgmajfault\":1738,\"pgrefill\":0,\"pgscan\":0,\"pgsteal\":0,\"shmem\":10489856,\"slab\":56658432,\"slab_reclaimable\":55379664,\"slab_unreclaimable\":1278768,\"sock\":16384,\"thp_collapse_alloc\":0,\"thp_fault_alloc\":0,\"unevictable\":16384,\"workingset_activate\":0,\"workingset_nodereclaim\":0,\"workingset_refault\":0},\"limit\":41911865344},\"name\":\"/speech2text-whsiper-small\",\"id\":\"06de068042bd304372856ca1bff0de8facb3731aa33a3097dbd483d152dc9d3f\",\"networks\":{\"eth0\":{\"rx_bytes\":981293325,\"rx_packets\":127754,\"rx_errors\":0,\"rx_dropped\":0,\"tx_bytes\":5751174,\"tx_packets\":76647,\"tx_errors\":0,\"tx_dropped\":0}}}\\n'\n",
      "b'{\"read\":\"2024-06-19T10:45:04.649422184Z\",\"preread\":\"2024-06-19T10:45:03.647339974Z\",\"pids_stats\":{\"current\":25,\"limit\":47889},\"blkio_stats\":{\"io_service_bytes_recursive\":[{\"major\":259,\"minor\":2,\"op\":\"read\",\"value\":381169664},{\"major\":259,\"minor\":2,\"op\":\"write\",\"value\":972136448}],\"io_serviced_recursive\":null,\"io_queue_recursive\":null,\"io_service_time_recursive\":null,\"io_wait_time_recursive\":null,\"io_merged_recursive\":null,\"io_time_recursive\":null,\"sectors_recursive\":null},\"num_procs\":0,\"storage_stats\":{},\"cpu_stats\":{\"cpu_usage\":{\"total_usage\":35660467000,\"usage_in_kernelmode\":10783873000,\"usage_in_usermode\":24876593000},\"system_cpu_usage\":43582960000000,\"online_cpus\":8,\"throttling_data\":{\"periods\":0,\"throttled_periods\":0,\"throttled_time\":0}},\"precpu_stats\":{\"cpu_usage\":{\"total_usage\":35639906000,\"usage_in_kernelmode\":10773561000,\"usage_in_usermode\":24866345000},\"system_cpu_usage\":43575030000000,\"online_cpus\":8,\"throttling_data\":{\"periods\":0,\"throttled_periods\":0,\"throttled_time\":0}},\"memory_stats\":{\"usage\":2072231936,\"stats\":{\"active_anon\":658452480,\"active_file\":299003904,\"anon\":647979008,\"anon_thp\":0,\"file\":1363992576,\"file_dirty\":0,\"file_mapped\":230514688,\"file_writeback\":0,\"inactive_anon\":0,\"inactive_file\":1054498816,\"kernel_stack\":409600,\"pgactivate\":0,\"pgdeactivate\":0,\"pgfault\":221482,\"pglazyfree\":0,\"pglazyfreed\":0,\"pgmajfault\":1738,\"pgrefill\":0,\"pgscan\":0,\"pgsteal\":0,\"shmem\":10489856,\"slab\":56658432,\"slab_reclaimable\":55379664,\"slab_unreclaimable\":1278768,\"sock\":16384,\"thp_collapse_alloc\":0,\"thp_fault_alloc\":0,\"unevictable\":16384,\"workingset_activate\":0,\"workingset_nodereclaim\":0,\"workingset_refault\":0},\"limit\":41911865344},\"name\":\"/speech2text-whsiper-small\",\"id\":\"06de068042bd304372856ca1bff0de8facb3731aa33a3097dbd483d152dc9d3f\",\"networks\":{\"eth0\":{\"rx_bytes\":981293325,\"rx_packets\":127754,\"rx_errors\":0,\"rx_dropped\":0,\"tx_bytes\":5751174,\"tx_packets\":76647,\"tx_errors\":0,\"tx_dropped\":0}}}\\n'\n",
      "b'{\"read\":\"2024-06-19T10:45:05.651003908Z\",\"preread\":\"2024-06-19T10:45:04.649422184Z\",\"pids_stats\":{\"current\":25,\"limit\":47889},\"blkio_stats\":{\"io_service_bytes_recursive\":[{\"major\":259,\"minor\":2,\"op\":\"read\",\"value\":381169664},{\"major\":259,\"minor\":2,\"op\":\"write\",\"value\":972136448}],\"io_serviced_recursive\":null,\"io_queue_recursive\":null,\"io_service_time_recursive\":null,\"io_wait_time_recursive\":null,\"io_merged_recursive\":null,\"io_time_recursive\":null,\"sectors_recursive\":null},\"num_procs\":0,\"storage_stats\":{},\"cpu_stats\":{\"cpu_usage\":{\"total_usage\":35680036000,\"usage_in_kernelmode\":10792052000,\"usage_in_usermode\":24887984000},\"system_cpu_usage\":43590910000000,\"online_cpus\":8,\"throttling_data\":{\"periods\":0,\"throttled_periods\":0,\"throttled_time\":0}},\"precpu_stats\":{\"cpu_usage\":{\"total_usage\":35660467000,\"usage_in_kernelmode\":10783873000,\"usage_in_usermode\":24876593000},\"system_cpu_usage\":43582960000000,\"online_cpus\":8,\"throttling_data\":{\"periods\":0,\"throttled_periods\":0,\"throttled_time\":0}},\"memory_stats\":{\"usage\":2072231936,\"stats\":{\"active_anon\":658452480,\"active_file\":299003904,\"anon\":647979008,\"anon_thp\":0,\"file\":1363992576,\"file_dirty\":0,\"file_mapped\":230514688,\"file_writeback\":0,\"inactive_anon\":0,\"inactive_file\":1054498816,\"kernel_stack\":409600,\"pgactivate\":0,\"pgdeactivate\":0,\"pgfault\":221482,\"pglazyfree\":0,\"pglazyfreed\":0,\"pgmajfault\":1738,\"pgrefill\":0,\"pgscan\":0,\"pgsteal\":0,\"shmem\":10489856,\"slab\":56658432,\"slab_reclaimable\":55379664,\"slab_unreclaimable\":1278768,\"sock\":16384,\"thp_collapse_alloc\":0,\"thp_fault_alloc\":0,\"unevictable\":16384,\"workingset_activate\":0,\"workingset_nodereclaim\":0,\"workingset_refault\":0},\"limit\":41911865344},\"name\":\"/speech2text-whsiper-small\",\"id\":\"06de068042bd304372856ca1bff0de8facb3731aa33a3097dbd483d152dc9d3f\",\"networks\":{\"eth0\":{\"rx_bytes\":981293325,\"rx_packets\":127754,\"rx_errors\":0,\"rx_dropped\":0,\"tx_bytes\":5751174,\"tx_packets\":76647,\"tx_errors\":0,\"tx_dropped\":0}}}\\n'\n",
      "b'{\"read\":\"2024-06-19T10:45:06.653191602Z\",\"preread\":\"2024-06-19T10:45:05.651003908Z\",\"pids_stats\":{\"current\":25,\"limit\":47889},\"blkio_stats\":{\"io_service_bytes_recursive\":[{\"major\":259,\"minor\":2,\"op\":\"read\",\"value\":381169664},{\"major\":259,\"minor\":2,\"op\":\"write\",\"value\":972136448}],\"io_serviced_recursive\":null,\"io_queue_recursive\":null,\"io_service_time_recursive\":null,\"io_wait_time_recursive\":null,\"io_merged_recursive\":null,\"io_time_recursive\":null,\"sectors_recursive\":null},\"num_procs\":0,\"storage_stats\":{},\"cpu_stats\":{\"cpu_usage\":{\"total_usage\":35697755000,\"usage_in_kernelmode\":10799243000,\"usage_in_usermode\":24898512000},\"system_cpu_usage\":43598820000000,\"online_cpus\":8,\"throttling_data\":{\"periods\":0,\"throttled_periods\":0,\"throttled_time\":0}},\"precpu_stats\":{\"cpu_usage\":{\"total_usage\":35680036000,\"usage_in_kernelmode\":10792052000,\"usage_in_usermode\":24887984000},\"system_cpu_usage\":43590910000000,\"online_cpus\":8,\"throttling_data\":{\"periods\":0,\"throttled_periods\":0,\"throttled_time\":0}},\"memory_stats\":{\"usage\":2072231936,\"stats\":{\"active_anon\":658452480,\"active_file\":299003904,\"anon\":647979008,\"anon_thp\":0,\"file\":1363992576,\"file_dirty\":0,\"file_mapped\":230514688,\"file_writeback\":0,\"inactive_anon\":0,\"inactive_file\":1054498816,\"kernel_stack\":409600,\"pgactivate\":0,\"pgdeactivate\":0,\"pgfault\":221482,\"pglazyfree\":0,\"pglazyfreed\":0,\"pgmajfault\":1738,\"pgrefill\":0,\"pgscan\":0,\"pgsteal\":0,\"shmem\":10489856,\"slab\":56658432,\"slab_reclaimable\":55379664,\"slab_unreclaimable\":1278768,\"sock\":16384,\"thp_collapse_alloc\":0,\"thp_fault_alloc\":0,\"unevictable\":16384,\"workingset_activate\":0,\"workingset_nodereclaim\":0,\"workingset_refault\":0},\"limit\":41911865344},\"name\":\"/speech2text-whsiper-small\",\"id\":\"06de068042bd304372856ca1bff0de8facb3731aa33a3097dbd483d152dc9d3f\",\"networks\":{\"eth0\":{\"rx_bytes\":981293325,\"rx_packets\":127754,\"rx_errors\":0,\"rx_dropped\":0,\"tx_bytes\":5751174,\"tx_packets\":76647,\"tx_errors\":0,\"tx_dropped\":0}}}\\n'\n",
      "b'{\"read\":\"2024-06-19T10:45:07.654690595Z\",\"preread\":\"2024-06-19T10:45:06.653191602Z\",\"pids_stats\":{\"current\":25,\"limit\":47889},\"blkio_stats\":{\"io_service_bytes_recursive\":[{\"major\":259,\"minor\":2,\"op\":\"read\",\"value\":381169664},{\"major\":259,\"minor\":2,\"op\":\"write\",\"value\":972136448}],\"io_serviced_recursive\":null,\"io_queue_recursive\":null,\"io_service_time_recursive\":null,\"io_wait_time_recursive\":null,\"io_merged_recursive\":null,\"io_time_recursive\":null,\"sectors_recursive\":null},\"num_procs\":0,\"storage_stats\":{},\"cpu_stats\":{\"cpu_usage\":{\"total_usage\":35713255000,\"usage_in_kernelmode\":10803932000,\"usage_in_usermode\":24909323000},\"system_cpu_usage\":43606680000000,\"online_cpus\":8,\"throttling_data\":{\"periods\":0,\"throttled_periods\":0,\"throttled_time\":0}},\"precpu_stats\":{\"cpu_usage\":{\"total_usage\":35697755000,\"usage_in_kernelmode\":10799243000,\"usage_in_usermode\":24898512000},\"system_cpu_usage\":43598820000000,\"online_cpus\":8,\"throttling_data\":{\"periods\":0,\"throttled_periods\":0,\"throttled_time\":0}},\"memory_stats\":{\"usage\":2072231936,\"stats\":{\"active_anon\":658452480,\"active_file\":299003904,\"anon\":647979008,\"anon_thp\":0,\"file\":1363992576,\"file_dirty\":0,\"file_mapped\":230514688,\"file_writeback\":0,\"inactive_anon\":0,\"inactive_file\":1054498816,\"kernel_stack\":409600,\"pgactivate\":0,\"pgdeactivate\":0,\"pgfault\":221482,\"pglazyfree\":0,\"pglazyfreed\":0,\"pgmajfault\":1738,\"pgrefill\":0,\"pgscan\":0,\"pgsteal\":0,\"shmem\":10489856,\"slab\":56658432,\"slab_reclaimable\":55379664,\"slab_unreclaimable\":1278768,\"sock\":16384,\"thp_collapse_alloc\":0,\"thp_fault_alloc\":0,\"unevictable\":16384,\"workingset_activate\":0,\"workingset_nodereclaim\":0,\"workingset_refault\":0},\"limit\":41911865344},\"name\":\"/speech2text-whsiper-small\",\"id\":\"06de068042bd304372856ca1bff0de8facb3731aa33a3097dbd483d152dc9d3f\",\"networks\":{\"eth0\":{\"rx_bytes\":981293325,\"rx_packets\":127754,\"rx_errors\":0,\"rx_dropped\":0,\"tx_bytes\":5751174,\"tx_packets\":76647,\"tx_errors\":0,\"tx_dropped\":0}}}\\n'\n",
      "b'{\"read\":\"2024-06-19T10:45:08.656465863Z\",\"preread\":\"2024-06-19T10:45:07.654690595Z\",\"pids_stats\":{\"current\":25,\"limit\":47889},\"blkio_stats\":{\"io_service_bytes_recursive\":[{\"major\":259,\"minor\":2,\"op\":\"read\",\"value\":381169664},{\"major\":259,\"minor\":2,\"op\":\"write\",\"value\":972136448}],\"io_serviced_recursive\":null,\"io_queue_recursive\":null,\"io_service_time_recursive\":null,\"io_wait_time_recursive\":null,\"io_merged_recursive\":null,\"io_time_recursive\":null,\"sectors_recursive\":null},\"num_procs\":0,\"storage_stats\":{},\"cpu_stats\":{\"cpu_usage\":{\"total_usage\":35731065000,\"usage_in_kernelmode\":10817619000,\"usage_in_usermode\":24913445000},\"system_cpu_usage\":43614640000000,\"online_cpus\":8,\"throttling_data\":{\"periods\":0,\"throttled_periods\":0,\"throttled_time\":0}},\"precpu_stats\":{\"cpu_usage\":{\"total_usage\":35713255000,\"usage_in_kernelmode\":10803932000,\"usage_in_usermode\":24909323000},\"system_cpu_usage\":43606680000000,\"online_cpus\":8,\"throttling_data\":{\"periods\":0,\"throttled_periods\":0,\"throttled_time\":0}},\"memory_stats\":{\"usage\":2072231936,\"stats\":{\"active_anon\":658452480,\"active_file\":299003904,\"anon\":647979008,\"anon_thp\":0,\"file\":1363992576,\"file_dirty\":0,\"file_mapped\":230514688,\"file_writeback\":0,\"inactive_anon\":0,\"inactive_file\":1054498816,\"kernel_stack\":409600,\"pgactivate\":0,\"pgdeactivate\":0,\"pgfault\":221482,\"pglazyfree\":0,\"pglazyfreed\":0,\"pgmajfault\":1738,\"pgrefill\":0,\"pgscan\":0,\"pgsteal\":0,\"shmem\":10489856,\"slab\":56658432,\"slab_reclaimable\":55379664,\"slab_unreclaimable\":1278768,\"sock\":16384,\"thp_collapse_alloc\":0,\"thp_fault_alloc\":0,\"unevictable\":16384,\"workingset_activate\":0,\"workingset_nodereclaim\":0,\"workingset_refault\":0},\"limit\":41911865344},\"name\":\"/speech2text-whsiper-small\",\"id\":\"06de068042bd304372856ca1bff0de8facb3731aa33a3097dbd483d152dc9d3f\",\"networks\":{\"eth0\":{\"rx_bytes\":981293325,\"rx_packets\":127754,\"rx_errors\":0,\"rx_dropped\":0,\"tx_bytes\":5751174,\"tx_packets\":76647,\"tx_errors\":0,\"tx_dropped\":0}}}\\n'\n",
      "b'{\"read\":\"2024-06-19T10:45:09.658743131Z\",\"preread\":\"2024-06-19T10:45:08.656465863Z\",\"pids_stats\":{\"current\":25,\"limit\":47889},\"blkio_stats\":{\"io_service_bytes_recursive\":[{\"major\":259,\"minor\":2,\"op\":\"read\",\"value\":381169664},{\"major\":259,\"minor\":2,\"op\":\"write\",\"value\":972136448}],\"io_serviced_recursive\":null,\"io_queue_recursive\":null,\"io_service_time_recursive\":null,\"io_wait_time_recursive\":null,\"io_merged_recursive\":null,\"io_time_recursive\":null,\"sectors_recursive\":null},\"num_procs\":0,\"storage_stats\":{},\"cpu_stats\":{\"cpu_usage\":{\"total_usage\":35750876000,\"usage_in_kernelmode\":10822213000,\"usage_in_usermode\":24928663000},\"system_cpu_usage\":43622540000000,\"online_cpus\":8,\"throttling_data\":{\"periods\":0,\"throttled_periods\":0,\"throttled_time\":0}},\"precpu_stats\":{\"cpu_usage\":{\"total_usage\":35731065000,\"usage_in_kernelmode\":10817619000,\"usage_in_usermode\":24913445000},\"system_cpu_usage\":43614640000000,\"online_cpus\":8,\"throttling_data\":{\"periods\":0,\"throttled_periods\":0,\"throttled_time\":0}},\"memory_stats\":{\"usage\":2072231936,\"stats\":{\"active_anon\":658452480,\"active_file\":299003904,\"anon\":647979008,\"anon_thp\":0,\"file\":1363992576,\"file_dirty\":0,\"file_mapped\":230514688,\"file_writeback\":0,\"inactive_anon\":0,\"inactive_file\":1054498816,\"kernel_stack\":409600,\"pgactivate\":0,\"pgdeactivate\":0,\"pgfault\":221482,\"pglazyfree\":0,\"pglazyfreed\":0,\"pgmajfault\":1738,\"pgrefill\":0,\"pgscan\":0,\"pgsteal\":0,\"shmem\":10489856,\"slab\":56658432,\"slab_reclaimable\":55379664,\"slab_unreclaimable\":1278768,\"sock\":16384,\"thp_collapse_alloc\":0,\"thp_fault_alloc\":0,\"unevictable\":16384,\"workingset_activate\":0,\"workingset_nodereclaim\":0,\"workingset_refault\":0},\"limit\":41911865344},\"name\":\"/speech2text-whsiper-small\",\"id\":\"06de068042bd304372856ca1bff0de8facb3731aa33a3097dbd483d152dc9d3f\",\"networks\":{\"eth0\":{\"rx_bytes\":981293325,\"rx_packets\":127754,\"rx_errors\":0,\"rx_dropped\":0,\"tx_bytes\":5751174,\"tx_packets\":76647,\"tx_errors\":0,\"tx_dropped\":0}}}\\n'\n",
      "b'{\"read\":\"2024-06-19T10:45:10.66046419Z\",\"preread\":\"2024-06-19T10:45:09.658743131Z\",\"pids_stats\":{\"current\":25,\"limit\":47889},\"blkio_stats\":{\"io_service_bytes_recursive\":[{\"major\":259,\"minor\":2,\"op\":\"read\",\"value\":381169664},{\"major\":259,\"minor\":2,\"op\":\"write\",\"value\":972136448}],\"io_serviced_recursive\":null,\"io_queue_recursive\":null,\"io_service_time_recursive\":null,\"io_wait_time_recursive\":null,\"io_merged_recursive\":null,\"io_time_recursive\":null,\"sectors_recursive\":null},\"num_procs\":0,\"storage_stats\":{},\"cpu_stats\":{\"cpu_usage\":{\"total_usage\":35770427000,\"usage_in_kernelmode\":10833196000,\"usage_in_usermode\":24937230000},\"system_cpu_usage\":43630450000000,\"online_cpus\":8,\"throttling_data\":{\"periods\":0,\"throttled_periods\":0,\"throttled_time\":0}},\"precpu_stats\":{\"cpu_usage\":{\"total_usage\":35750876000,\"usage_in_kernelmode\":10822213000,\"usage_in_usermode\":24928663000},\"system_cpu_usage\":43622540000000,\"online_cpus\":8,\"throttling_data\":{\"periods\":0,\"throttled_periods\":0,\"throttled_time\":0}},\"memory_stats\":{\"usage\":2072231936,\"stats\":{\"active_anon\":658452480,\"active_file\":299003904,\"anon\":647979008,\"anon_thp\":0,\"file\":1363992576,\"file_dirty\":0,\"file_mapped\":230514688,\"file_writeback\":0,\"inactive_anon\":0,\"inactive_file\":1054498816,\"kernel_stack\":409600,\"pgactivate\":0,\"pgdeactivate\":0,\"pgfault\":221482,\"pglazyfree\":0,\"pglazyfreed\":0,\"pgmajfault\":1738,\"pgrefill\":0,\"pgscan\":0,\"pgsteal\":0,\"shmem\":10489856,\"slab\":56658432,\"slab_reclaimable\":55379664,\"slab_unreclaimable\":1278768,\"sock\":16384,\"thp_collapse_alloc\":0,\"thp_fault_alloc\":0,\"unevictable\":16384,\"workingset_activate\":0,\"workingset_nodereclaim\":0,\"workingset_refault\":0},\"limit\":41911865344},\"name\":\"/speech2text-whsiper-small\",\"id\":\"06de068042bd304372856ca1bff0de8facb3731aa33a3097dbd483d152dc9d3f\",\"networks\":{\"eth0\":{\"rx_bytes\":981293325,\"rx_packets\":127754,\"rx_errors\":0,\"rx_dropped\":0,\"tx_bytes\":5751174,\"tx_packets\":76647,\"tx_errors\":0,\"tx_dropped\":0}}}\\n'\n",
      "b'{\"read\":\"2024-06-19T10:45:11.662346711Z\",\"preread\":\"2024-06-19T10:45:10.66046419Z\",\"pids_stats\":{\"current\":25,\"limit\":47889},\"blkio_stats\":{\"io_service_bytes_recursive\":[{\"major\":259,\"minor\":2,\"op\":\"read\",\"value\":381169664},{\"major\":259,\"minor\":2,\"op\":\"write\",\"value\":972136448}],\"io_serviced_recursive\":null,\"io_queue_recursive\":null,\"io_service_time_recursive\":null,\"io_wait_time_recursive\":null,\"io_merged_recursive\":null,\"io_time_recursive\":null,\"sectors_recursive\":null},\"num_procs\":0,\"storage_stats\":{},\"cpu_stats\":{\"cpu_usage\":{\"total_usage\":35791196000,\"usage_in_kernelmode\":10839486000,\"usage_in_usermode\":24951709000},\"system_cpu_usage\":43638360000000,\"online_cpus\":8,\"throttling_data\":{\"periods\":0,\"throttled_periods\":0,\"throttled_time\":0}},\"precpu_stats\":{\"cpu_usage\":{\"total_usage\":35770427000,\"usage_in_kernelmode\":10833196000,\"usage_in_usermode\":24937230000},\"system_cpu_usage\":43630450000000,\"online_cpus\":8,\"throttling_data\":{\"periods\":0,\"throttled_periods\":0,\"throttled_time\":0}},\"memory_stats\":{\"usage\":2072231936,\"stats\":{\"active_anon\":658452480,\"active_file\":299003904,\"anon\":647979008,\"anon_thp\":0,\"file\":1363992576,\"file_dirty\":0,\"file_mapped\":230514688,\"file_writeback\":0,\"inactive_anon\":0,\"inactive_file\":1054498816,\"kernel_stack\":409600,\"pgactivate\":0,\"pgdeactivate\":0,\"pgfault\":221482,\"pglazyfree\":0,\"pglazyfreed\":0,\"pgmajfault\":1738,\"pgrefill\":0,\"pgscan\":0,\"pgsteal\":0,\"shmem\":10489856,\"slab\":56658432,\"slab_reclaimable\":55379664,\"slab_unreclaimable\":1278768,\"sock\":16384,\"thp_collapse_alloc\":0,\"thp_fault_alloc\":0,\"unevictable\":16384,\"workingset_activate\":0,\"workingset_nodereclaim\":0,\"workingset_refault\":0},\"limit\":41911865344},\"name\":\"/speech2text-whsiper-small\",\"id\":\"06de068042bd304372856ca1bff0de8facb3731aa33a3097dbd483d152dc9d3f\",\"networks\":{\"eth0\":{\"rx_bytes\":981293325,\"rx_packets\":127754,\"rx_errors\":0,\"rx_dropped\":0,\"tx_bytes\":5751174,\"tx_packets\":76647,\"tx_errors\":0,\"tx_dropped\":0}}}\\n'\n",
      "b'{\"read\":\"2024-06-19T10:45:12.664440884Z\",\"preread\":\"2024-06-19T10:45:11.662346711Z\",\"pids_stats\":{\"current\":25,\"limit\":47889},\"blkio_stats\":{\"io_service_bytes_recursive\":[{\"major\":259,\"minor\":2,\"op\":\"read\",\"value\":381169664},{\"major\":259,\"minor\":2,\"op\":\"write\",\"value\":972136448}],\"io_serviced_recursive\":null,\"io_queue_recursive\":null,\"io_service_time_recursive\":null,\"io_wait_time_recursive\":null,\"io_merged_recursive\":null,\"io_time_recursive\":null,\"sectors_recursive\":null},\"num_procs\":0,\"storage_stats\":{},\"cpu_stats\":{\"cpu_usage\":{\"total_usage\":35809886000,\"usage_in_kernelmode\":10845571000,\"usage_in_usermode\":24964314000},\"system_cpu_usage\":43646290000000,\"online_cpus\":8,\"throttling_data\":{\"periods\":0,\"throttled_periods\":0,\"throttled_time\":0}},\"precpu_stats\":{\"cpu_usage\":{\"total_usage\":35791196000,\"usage_in_kernelmode\":10839486000,\"usage_in_usermode\":24951709000},\"system_cpu_usage\":43638360000000,\"online_cpus\":8,\"throttling_data\":{\"periods\":0,\"throttled_periods\":0,\"throttled_time\":0}},\"memory_stats\":{\"usage\":2072231936,\"stats\":{\"active_anon\":658452480,\"active_file\":299003904,\"anon\":647979008,\"anon_thp\":0,\"file\":1363992576,\"file_dirty\":0,\"file_mapped\":230514688,\"file_writeback\":0,\"inactive_anon\":0,\"inactive_file\":1054498816,\"kernel_stack\":409600,\"pgactivate\":0,\"pgdeactivate\":0,\"pgfault\":221482,\"pglazyfree\":0,\"pglazyfreed\":0,\"pgmajfault\":1738,\"pgrefill\":0,\"pgscan\":0,\"pgsteal\":0,\"shmem\":10489856,\"slab\":56658432,\"slab_reclaimable\":55379664,\"slab_unreclaimable\":1278768,\"sock\":16384,\"thp_collapse_alloc\":0,\"thp_fault_alloc\":0,\"unevictable\":16384,\"workingset_activate\":0,\"workingset_nodereclaim\":0,\"workingset_refault\":0},\"limit\":41911865344},\"name\":\"/speech2text-whsiper-small\",\"id\":\"06de068042bd304372856ca1bff0de8facb3731aa33a3097dbd483d152dc9d3f\",\"networks\":{\"eth0\":{\"rx_bytes\":981293325,\"rx_packets\":127754,\"rx_errors\":0,\"rx_dropped\":0,\"tx_bytes\":5751174,\"tx_packets\":76647,\"tx_errors\":0,\"tx_dropped\":0}}}\\n'\n",
      "b'{\"read\":\"2024-06-19T10:45:13.666609877Z\",\"preread\":\"2024-06-19T10:45:12.664440884Z\",\"pids_stats\":{\"current\":25,\"limit\":47889},\"blkio_stats\":{\"io_service_bytes_recursive\":[{\"major\":259,\"minor\":2,\"op\":\"read\",\"value\":381169664},{\"major\":259,\"minor\":2,\"op\":\"write\",\"value\":972136448}],\"io_serviced_recursive\":null,\"io_queue_recursive\":null,\"io_service_time_recursive\":null,\"io_wait_time_recursive\":null,\"io_merged_recursive\":null,\"io_time_recursive\":null,\"sectors_recursive\":null},\"num_procs\":0,\"storage_stats\":{},\"cpu_stats\":{\"cpu_usage\":{\"total_usage\":35825913000,\"usage_in_kernelmode\":10848038000,\"usage_in_usermode\":24977875000},\"system_cpu_usage\":43654200000000,\"online_cpus\":8,\"throttling_data\":{\"periods\":0,\"throttled_periods\":0,\"throttled_time\":0}},\"precpu_stats\":{\"cpu_usage\":{\"total_usage\":35809886000,\"usage_in_kernelmode\":10845571000,\"usage_in_usermode\":24964314000},\"system_cpu_usage\":43646290000000,\"online_cpus\":8,\"throttling_data\":{\"periods\":0,\"throttled_periods\":0,\"throttled_time\":0}},\"memory_stats\":{\"usage\":2072231936,\"stats\":{\"active_anon\":658452480,\"active_file\":299003904,\"anon\":647979008,\"anon_thp\":0,\"file\":1363992576,\"file_dirty\":0,\"file_mapped\":230514688,\"file_writeback\":0,\"inactive_anon\":0,\"inactive_file\":1054498816,\"kernel_stack\":409600,\"pgactivate\":0,\"pgdeactivate\":0,\"pgfault\":221482,\"pglazyfree\":0,\"pglazyfreed\":0,\"pgmajfault\":1738,\"pgrefill\":0,\"pgscan\":0,\"pgsteal\":0,\"shmem\":10489856,\"slab\":56658432,\"slab_reclaimable\":55379664,\"slab_unreclaimable\":1278768,\"sock\":16384,\"thp_collapse_alloc\":0,\"thp_fault_alloc\":0,\"unevictable\":16384,\"workingset_activate\":0,\"workingset_nodereclaim\":0,\"workingset_refault\":0},\"limit\":41911865344},\"name\":\"/speech2text-whsiper-small\",\"id\":\"06de068042bd304372856ca1bff0de8facb3731aa33a3097dbd483d152dc9d3f\",\"networks\":{\"eth0\":{\"rx_bytes\":981293325,\"rx_packets\":127754,\"rx_errors\":0,\"rx_dropped\":0,\"tx_bytes\":5751174,\"tx_packets\":76647,\"tx_errors\":0,\"tx_dropped\":0}}}\\n'\n",
      "b'{\"read\":\"2024-06-19T10:45:14.668594878Z\",\"preread\":\"2024-06-19T10:45:13.666609877Z\",\"pids_stats\":{\"current\":25,\"limit\":47889},\"blkio_stats\":{\"io_service_bytes_recursive\":[{\"major\":259,\"minor\":2,\"op\":\"read\",\"value\":381169664},{\"major\":259,\"minor\":2,\"op\":\"write\",\"value\":972136448}],\"io_serviced_recursive\":null,\"io_queue_recursive\":null,\"io_service_time_recursive\":null,\"io_wait_time_recursive\":null,\"io_merged_recursive\":null,\"io_time_recursive\":null,\"sectors_recursive\":null},\"num_procs\":0,\"storage_stats\":{},\"cpu_stats\":{\"cpu_usage\":{\"total_usage\":35842364000,\"usage_in_kernelmode\":10861322000,\"usage_in_usermode\":24981041000},\"system_cpu_usage\":43662080000000,\"online_cpus\":8,\"throttling_data\":{\"periods\":0,\"throttled_periods\":0,\"throttled_time\":0}},\"precpu_stats\":{\"cpu_usage\":{\"total_usage\":35825913000,\"usage_in_kernelmode\":10848038000,\"usage_in_usermode\":24977875000},\"system_cpu_usage\":43654200000000,\"online_cpus\":8,\"throttling_data\":{\"periods\":0,\"throttled_periods\":0,\"throttled_time\":0}},\"memory_stats\":{\"usage\":2072231936,\"stats\":{\"active_anon\":658452480,\"active_file\":299003904,\"anon\":647979008,\"anon_thp\":0,\"file\":1363992576,\"file_dirty\":0,\"file_mapped\":230514688,\"file_writeback\":0,\"inactive_anon\":0,\"inactive_file\":1054498816,\"kernel_stack\":409600,\"pgactivate\":0,\"pgdeactivate\":0,\"pgfault\":221482,\"pglazyfree\":0,\"pglazyfreed\":0,\"pgmajfault\":1738,\"pgrefill\":0,\"pgscan\":0,\"pgsteal\":0,\"shmem\":10489856,\"slab\":56658432,\"slab_reclaimable\":55379664,\"slab_unreclaimable\":1278768,\"sock\":16384,\"thp_collapse_alloc\":0,\"thp_fault_alloc\":0,\"unevictable\":16384,\"workingset_activate\":0,\"workingset_nodereclaim\":0,\"workingset_refault\":0},\"limit\":41911865344},\"name\":\"/speech2text-whsiper-small\",\"id\":\"06de068042bd304372856ca1bff0de8facb3731aa33a3097dbd483d152dc9d3f\",\"networks\":{\"eth0\":{\"rx_bytes\":981293325,\"rx_packets\":127754,\"rx_errors\":0,\"rx_dropped\":0,\"tx_bytes\":5751174,\"tx_packets\":76647,\"tx_errors\":0,\"tx_dropped\":0}}}\\n'\n",
      "b'{\"read\":\"2024-06-19T10:45:15.670089221Z\",\"preread\":\"2024-06-19T10:45:14.668594878Z\",\"pids_stats\":{\"current\":25,\"limit\":47889},\"blkio_stats\":{\"io_service_bytes_recursive\":[{\"major\":259,\"minor\":2,\"op\":\"read\",\"value\":381169664},{\"major\":259,\"minor\":2,\"op\":\"write\",\"value\":972136448}],\"io_serviced_recursive\":null,\"io_queue_recursive\":null,\"io_service_time_recursive\":null,\"io_wait_time_recursive\":null,\"io_merged_recursive\":null,\"io_time_recursive\":null,\"sectors_recursive\":null},\"num_procs\":0,\"storage_stats\":{},\"cpu_stats\":{\"cpu_usage\":{\"total_usage\":35855422000,\"usage_in_kernelmode\":10867108000,\"usage_in_usermode\":24988314000},\"system_cpu_usage\":43669960000000,\"online_cpus\":8,\"throttling_data\":{\"periods\":0,\"throttled_periods\":0,\"throttled_time\":0}},\"precpu_stats\":{\"cpu_usage\":{\"total_usage\":35842364000,\"usage_in_kernelmode\":10861322000,\"usage_in_usermode\":24981041000},\"system_cpu_usage\":43662080000000,\"online_cpus\":8,\"throttling_data\":{\"periods\":0,\"throttled_periods\":0,\"throttled_time\":0}},\"memory_stats\":{\"usage\":2072231936,\"stats\":{\"active_anon\":658452480,\"active_file\":299003904,\"anon\":647979008,\"anon_thp\":0,\"file\":1363992576,\"file_dirty\":0,\"file_mapped\":230514688,\"file_writeback\":0,\"inactive_anon\":0,\"inactive_file\":1054498816,\"kernel_stack\":409600,\"pgactivate\":0,\"pgdeactivate\":0,\"pgfault\":221482,\"pglazyfree\":0,\"pglazyfreed\":0,\"pgmajfault\":1738,\"pgrefill\":0,\"pgscan\":0,\"pgsteal\":0,\"shmem\":10489856,\"slab\":56658432,\"slab_reclaimable\":55379664,\"slab_unreclaimable\":1278768,\"sock\":16384,\"thp_collapse_alloc\":0,\"thp_fault_alloc\":0,\"unevictable\":16384,\"workingset_activate\":0,\"workingset_nodereclaim\":0,\"workingset_refault\":0},\"limit\":41911865344},\"name\":\"/speech2text-whsiper-small\",\"id\":\"06de068042bd304372856ca1bff0de8facb3731aa33a3097dbd483d152dc9d3f\",\"networks\":{\"eth0\":{\"rx_bytes\":981293325,\"rx_packets\":127754,\"rx_errors\":0,\"rx_dropped\":0,\"tx_bytes\":5751174,\"tx_packets\":76647,\"tx_errors\":0,\"tx_dropped\":0}}}\\n'\n",
      "b'{\"read\":\"2024-06-19T10:45:16.672391843Z\",\"preread\":\"2024-06-19T10:45:15.670089221Z\",\"pids_stats\":{\"current\":25,\"limit\":47889},\"blkio_stats\":{\"io_service_bytes_recursive\":[{\"major\":259,\"minor\":2,\"op\":\"read\",\"value\":381169664},{\"major\":259,\"minor\":2,\"op\":\"write\",\"value\":972136448}],\"io_serviced_recursive\":null,\"io_queue_recursive\":null,\"io_service_time_recursive\":null,\"io_wait_time_recursive\":null,\"io_merged_recursive\":null,\"io_time_recursive\":null,\"sectors_recursive\":null},\"num_procs\":0,\"storage_stats\":{},\"cpu_stats\":{\"cpu_usage\":{\"total_usage\":35873792000,\"usage_in_kernelmode\":10877739000,\"usage_in_usermode\":24996052000},\"system_cpu_usage\":43677890000000,\"online_cpus\":8,\"throttling_data\":{\"periods\":0,\"throttled_periods\":0,\"throttled_time\":0}},\"precpu_stats\":{\"cpu_usage\":{\"total_usage\":35855422000,\"usage_in_kernelmode\":10867108000,\"usage_in_usermode\":24988314000},\"system_cpu_usage\":43669960000000,\"online_cpus\":8,\"throttling_data\":{\"periods\":0,\"throttled_periods\":0,\"throttled_time\":0}},\"memory_stats\":{\"usage\":2072231936,\"stats\":{\"active_anon\":658452480,\"active_file\":299003904,\"anon\":647979008,\"anon_thp\":0,\"file\":1363992576,\"file_dirty\":0,\"file_mapped\":230514688,\"file_writeback\":0,\"inactive_anon\":0,\"inactive_file\":1054498816,\"kernel_stack\":409600,\"pgactivate\":0,\"pgdeactivate\":0,\"pgfault\":221482,\"pglazyfree\":0,\"pglazyfreed\":0,\"pgmajfault\":1738,\"pgrefill\":0,\"pgscan\":0,\"pgsteal\":0,\"shmem\":10489856,\"slab\":56658432,\"slab_reclaimable\":55379664,\"slab_unreclaimable\":1278768,\"sock\":16384,\"thp_collapse_alloc\":0,\"thp_fault_alloc\":0,\"unevictable\":16384,\"workingset_activate\":0,\"workingset_nodereclaim\":0,\"workingset_refault\":0},\"limit\":41911865344},\"name\":\"/speech2text-whsiper-small\",\"id\":\"06de068042bd304372856ca1bff0de8facb3731aa33a3097dbd483d152dc9d3f\",\"networks\":{\"eth0\":{\"rx_bytes\":981293325,\"rx_packets\":127754,\"rx_errors\":0,\"rx_dropped\":0,\"tx_bytes\":5751174,\"tx_packets\":76647,\"tx_errors\":0,\"tx_dropped\":0}}}\\n'\n",
      "b'{\"read\":\"2024-06-19T10:45:17.674149497Z\",\"preread\":\"2024-06-19T10:45:16.672391843Z\",\"pids_stats\":{\"current\":25,\"limit\":47889},\"blkio_stats\":{\"io_service_bytes_recursive\":[{\"major\":259,\"minor\":2,\"op\":\"read\",\"value\":381169664},{\"major\":259,\"minor\":2,\"op\":\"write\",\"value\":972136448}],\"io_serviced_recursive\":null,\"io_queue_recursive\":null,\"io_service_time_recursive\":null,\"io_wait_time_recursive\":null,\"io_merged_recursive\":null,\"io_time_recursive\":null,\"sectors_recursive\":null},\"num_procs\":0,\"storage_stats\":{},\"cpu_stats\":{\"cpu_usage\":{\"total_usage\":35890274000,\"usage_in_kernelmode\":10879921000,\"usage_in_usermode\":25010353000},\"system_cpu_usage\":43685750000000,\"online_cpus\":8,\"throttling_data\":{\"periods\":0,\"throttled_periods\":0,\"throttled_time\":0}},\"precpu_stats\":{\"cpu_usage\":{\"total_usage\":35873792000,\"usage_in_kernelmode\":10877739000,\"usage_in_usermode\":24996052000},\"system_cpu_usage\":43677890000000,\"online_cpus\":8,\"throttling_data\":{\"periods\":0,\"throttled_periods\":0,\"throttled_time\":0}},\"memory_stats\":{\"usage\":2072231936,\"stats\":{\"active_anon\":658452480,\"active_file\":299003904,\"anon\":647979008,\"anon_thp\":0,\"file\":1363992576,\"file_dirty\":0,\"file_mapped\":230514688,\"file_writeback\":0,\"inactive_anon\":0,\"inactive_file\":1054498816,\"kernel_stack\":409600,\"pgactivate\":0,\"pgdeactivate\":0,\"pgfault\":221482,\"pglazyfree\":0,\"pglazyfreed\":0,\"pgmajfault\":1738,\"pgrefill\":0,\"pgscan\":0,\"pgsteal\":0,\"shmem\":10489856,\"slab\":56658432,\"slab_reclaimable\":55379664,\"slab_unreclaimable\":1278768,\"sock\":16384,\"thp_collapse_alloc\":0,\"thp_fault_alloc\":0,\"unevictable\":16384,\"workingset_activate\":0,\"workingset_nodereclaim\":0,\"workingset_refault\":0},\"limit\":41911865344},\"name\":\"/speech2text-whsiper-small\",\"id\":\"06de068042bd304372856ca1bff0de8facb3731aa33a3097dbd483d152dc9d3f\",\"networks\":{\"eth0\":{\"rx_bytes\":981293325,\"rx_packets\":127754,\"rx_errors\":0,\"rx_dropped\":0,\"tx_bytes\":5751174,\"tx_packets\":76647,\"tx_errors\":0,\"tx_dropped\":0}}}\\n'\n",
      "b'{\"read\":\"2024-06-19T10:45:18.676310329Z\",\"preread\":\"2024-06-19T10:45:17.674149497Z\",\"pids_stats\":{\"current\":25,\"limit\":47889},\"blkio_stats\":{\"io_service_bytes_recursive\":[{\"major\":259,\"minor\":2,\"op\":\"read\",\"value\":381169664},{\"major\":259,\"minor\":2,\"op\":\"write\",\"value\":972136448}],\"io_serviced_recursive\":null,\"io_queue_recursive\":null,\"io_service_time_recursive\":null,\"io_wait_time_recursive\":null,\"io_merged_recursive\":null,\"io_time_recursive\":null,\"sectors_recursive\":null},\"num_procs\":0,\"storage_stats\":{},\"cpu_stats\":{\"cpu_usage\":{\"total_usage\":35902950000,\"usage_in_kernelmode\":10888828000,\"usage_in_usermode\":25014122000},\"system_cpu_usage\":43693630000000,\"online_cpus\":8,\"throttling_data\":{\"periods\":0,\"throttled_periods\":0,\"throttled_time\":0}},\"precpu_stats\":{\"cpu_usage\":{\"total_usage\":35890274000,\"usage_in_kernelmode\":10879921000,\"usage_in_usermode\":25010353000},\"system_cpu_usage\":43685750000000,\"online_cpus\":8,\"throttling_data\":{\"periods\":0,\"throttled_periods\":0,\"throttled_time\":0}},\"memory_stats\":{\"usage\":2072231936,\"stats\":{\"active_anon\":658452480,\"active_file\":299003904,\"anon\":647979008,\"anon_thp\":0,\"file\":1363992576,\"file_dirty\":0,\"file_mapped\":230514688,\"file_writeback\":0,\"inactive_anon\":0,\"inactive_file\":1054498816,\"kernel_stack\":409600,\"pgactivate\":0,\"pgdeactivate\":0,\"pgfault\":221482,\"pglazyfree\":0,\"pglazyfreed\":0,\"pgmajfault\":1738,\"pgrefill\":0,\"pgscan\":0,\"pgsteal\":0,\"shmem\":10489856,\"slab\":56658432,\"slab_reclaimable\":55379664,\"slab_unreclaimable\":1278768,\"sock\":16384,\"thp_collapse_alloc\":0,\"thp_fault_alloc\":0,\"unevictable\":16384,\"workingset_activate\":0,\"workingset_nodereclaim\":0,\"workingset_refault\":0},\"limit\":41911865344},\"name\":\"/speech2text-whsiper-small\",\"id\":\"06de068042bd304372856ca1bff0de8facb3731aa33a3097dbd483d152dc9d3f\",\"networks\":{\"eth0\":{\"rx_bytes\":981293325,\"rx_packets\":127754,\"rx_errors\":0,\"rx_dropped\":0,\"tx_bytes\":5751174,\"tx_packets\":76647,\"tx_errors\":0,\"tx_dropped\":0}}}\\n'\n",
      "b'{\"read\":\"2024-06-19T10:45:19.677821586Z\",\"preread\":\"2024-06-19T10:45:18.676310329Z\",\"pids_stats\":{\"current\":25,\"limit\":47889},\"blkio_stats\":{\"io_service_bytes_recursive\":[{\"major\":259,\"minor\":2,\"op\":\"read\",\"value\":381169664},{\"major\":259,\"minor\":2,\"op\":\"write\",\"value\":972136448}],\"io_serviced_recursive\":null,\"io_queue_recursive\":null,\"io_service_time_recursive\":null,\"io_wait_time_recursive\":null,\"io_merged_recursive\":null,\"io_time_recursive\":null,\"sectors_recursive\":null},\"num_procs\":0,\"storage_stats\":{},\"cpu_stats\":{\"cpu_usage\":{\"total_usage\":35919086000,\"usage_in_kernelmode\":10902018000,\"usage_in_usermode\":25017068000},\"system_cpu_usage\":43701570000000,\"online_cpus\":8,\"throttling_data\":{\"periods\":0,\"throttled_periods\":0,\"throttled_time\":0}},\"precpu_stats\":{\"cpu_usage\":{\"total_usage\":35902950000,\"usage_in_kernelmode\":10888828000,\"usage_in_usermode\":25014122000},\"system_cpu_usage\":43693630000000,\"online_cpus\":8,\"throttling_data\":{\"periods\":0,\"throttled_periods\":0,\"throttled_time\":0}},\"memory_stats\":{\"usage\":2072231936,\"stats\":{\"active_anon\":658452480,\"active_file\":299003904,\"anon\":647979008,\"anon_thp\":0,\"file\":1363992576,\"file_dirty\":0,\"file_mapped\":230514688,\"file_writeback\":0,\"inactive_anon\":0,\"inactive_file\":1054498816,\"kernel_stack\":409600,\"pgactivate\":0,\"pgdeactivate\":0,\"pgfault\":221482,\"pglazyfree\":0,\"pglazyfreed\":0,\"pgmajfault\":1738,\"pgrefill\":0,\"pgscan\":0,\"pgsteal\":0,\"shmem\":10489856,\"slab\":56658432,\"slab_reclaimable\":55379664,\"slab_unreclaimable\":1278768,\"sock\":16384,\"thp_collapse_alloc\":0,\"thp_fault_alloc\":0,\"unevictable\":16384,\"workingset_activate\":0,\"workingset_nodereclaim\":0,\"workingset_refault\":0},\"limit\":41911865344},\"name\":\"/speech2text-whsiper-small\",\"id\":\"06de068042bd304372856ca1bff0de8facb3731aa33a3097dbd483d152dc9d3f\",\"networks\":{\"eth0\":{\"rx_bytes\":981293325,\"rx_packets\":127754,\"rx_errors\":0,\"rx_dropped\":0,\"tx_bytes\":5751174,\"tx_packets\":76647,\"tx_errors\":0,\"tx_dropped\":0}}}\\n'\n",
      "b'{\"read\":\"2024-06-19T10:45:20.679843958Z\",\"preread\":\"2024-06-19T10:45:19.677821586Z\",\"pids_stats\":{\"current\":25,\"limit\":47889},\"blkio_stats\":{\"io_service_bytes_recursive\":[{\"major\":259,\"minor\":2,\"op\":\"read\",\"value\":381169664},{\"major\":259,\"minor\":2,\"op\":\"write\",\"value\":972136448}],\"io_serviced_recursive\":null,\"io_queue_recursive\":null,\"io_service_time_recursive\":null,\"io_wait_time_recursive\":null,\"io_merged_recursive\":null,\"io_time_recursive\":null,\"sectors_recursive\":null},\"num_procs\":0,\"storage_stats\":{},\"cpu_stats\":{\"cpu_usage\":{\"total_usage\":35938835000,\"usage_in_kernelmode\":10914482000,\"usage_in_usermode\":25024353000},\"system_cpu_usage\":43709440000000,\"online_cpus\":8,\"throttling_data\":{\"periods\":0,\"throttled_periods\":0,\"throttled_time\":0}},\"precpu_stats\":{\"cpu_usage\":{\"total_usage\":35919086000,\"usage_in_kernelmode\":10902018000,\"usage_in_usermode\":25017068000},\"system_cpu_usage\":43701570000000,\"online_cpus\":8,\"throttling_data\":{\"periods\":0,\"throttled_periods\":0,\"throttled_time\":0}},\"memory_stats\":{\"usage\":2072231936,\"stats\":{\"active_anon\":658452480,\"active_file\":299003904,\"anon\":647979008,\"anon_thp\":0,\"file\":1363992576,\"file_dirty\":0,\"file_mapped\":230514688,\"file_writeback\":0,\"inactive_anon\":0,\"inactive_file\":1054498816,\"kernel_stack\":409600,\"pgactivate\":0,\"pgdeactivate\":0,\"pgfault\":221482,\"pglazyfree\":0,\"pglazyfreed\":0,\"pgmajfault\":1738,\"pgrefill\":0,\"pgscan\":0,\"pgsteal\":0,\"shmem\":10489856,\"slab\":56658432,\"slab_reclaimable\":55379664,\"slab_unreclaimable\":1278768,\"sock\":16384,\"thp_collapse_alloc\":0,\"thp_fault_alloc\":0,\"unevictable\":16384,\"workingset_activate\":0,\"workingset_nodereclaim\":0,\"workingset_refault\":0},\"limit\":41911865344},\"name\":\"/speech2text-whsiper-small\",\"id\":\"06de068042bd304372856ca1bff0de8facb3731aa33a3097dbd483d152dc9d3f\",\"networks\":{\"eth0\":{\"rx_bytes\":981293325,\"rx_packets\":127754,\"rx_errors\":0,\"rx_dropped\":0,\"tx_bytes\":5751174,\"tx_packets\":76647,\"tx_errors\":0,\"tx_dropped\":0}}}\\n'\n",
      "b'{\"read\":\"2024-06-19T10:45:21.681476032Z\",\"preread\":\"2024-06-19T10:45:20.679843958Z\",\"pids_stats\":{\"current\":25,\"limit\":47889},\"blkio_stats\":{\"io_service_bytes_recursive\":[{\"major\":259,\"minor\":2,\"op\":\"read\",\"value\":381169664},{\"major\":259,\"minor\":2,\"op\":\"write\",\"value\":972136448}],\"io_serviced_recursive\":null,\"io_queue_recursive\":null,\"io_service_time_recursive\":null,\"io_wait_time_recursive\":null,\"io_merged_recursive\":null,\"io_time_recursive\":null,\"sectors_recursive\":null},\"num_procs\":0,\"storage_stats\":{},\"cpu_stats\":{\"cpu_usage\":{\"total_usage\":35953791000,\"usage_in_kernelmode\":10928726000,\"usage_in_usermode\":25025065000},\"system_cpu_usage\":43717390000000,\"online_cpus\":8,\"throttling_data\":{\"periods\":0,\"throttled_periods\":0,\"throttled_time\":0}},\"precpu_stats\":{\"cpu_usage\":{\"total_usage\":35938835000,\"usage_in_kernelmode\":10914482000,\"usage_in_usermode\":25024353000},\"system_cpu_usage\":43709440000000,\"online_cpus\":8,\"throttling_data\":{\"periods\":0,\"throttled_periods\":0,\"throttled_time\":0}},\"memory_stats\":{\"usage\":2072231936,\"stats\":{\"active_anon\":658452480,\"active_file\":299003904,\"anon\":647979008,\"anon_thp\":0,\"file\":1363992576,\"file_dirty\":0,\"file_mapped\":230514688,\"file_writeback\":0,\"inactive_anon\":0,\"inactive_file\":1054498816,\"kernel_stack\":409600,\"pgactivate\":0,\"pgdeactivate\":0,\"pgfault\":221482,\"pglazyfree\":0,\"pglazyfreed\":0,\"pgmajfault\":1738,\"pgrefill\":0,\"pgscan\":0,\"pgsteal\":0,\"shmem\":10489856,\"slab\":56658432,\"slab_reclaimable\":55379664,\"slab_unreclaimable\":1278768,\"sock\":16384,\"thp_collapse_alloc\":0,\"thp_fault_alloc\":0,\"unevictable\":16384,\"workingset_activate\":0,\"workingset_nodereclaim\":0,\"workingset_refault\":0},\"limit\":41911865344},\"name\":\"/speech2text-whsiper-small\",\"id\":\"06de068042bd304372856ca1bff0de8facb3731aa33a3097dbd483d152dc9d3f\",\"networks\":{\"eth0\":{\"rx_bytes\":981293325,\"rx_packets\":127754,\"rx_errors\":0,\"rx_dropped\":0,\"tx_bytes\":5751174,\"tx_packets\":76647,\"tx_errors\":0,\"tx_dropped\":0}}}\\n'\n",
      "b'{\"read\":\"2024-06-19T10:45:22.682909961Z\",\"preread\":\"2024-06-19T10:45:21.681476032Z\",\"pids_stats\":{\"current\":25,\"limit\":47889},\"blkio_stats\":{\"io_service_bytes_recursive\":[{\"major\":259,\"minor\":2,\"op\":\"read\",\"value\":381169664},{\"major\":259,\"minor\":2,\"op\":\"write\",\"value\":972136448}],\"io_serviced_recursive\":null,\"io_queue_recursive\":null,\"io_service_time_recursive\":null,\"io_wait_time_recursive\":null,\"io_merged_recursive\":null,\"io_time_recursive\":null,\"sectors_recursive\":null},\"num_procs\":0,\"storage_stats\":{},\"cpu_stats\":{\"cpu_usage\":{\"total_usage\":35970261000,\"usage_in_kernelmode\":10933732000,\"usage_in_usermode\":25036528000},\"system_cpu_usage\":43725340000000,\"online_cpus\":8,\"throttling_data\":{\"periods\":0,\"throttled_periods\":0,\"throttled_time\":0}},\"precpu_stats\":{\"cpu_usage\":{\"total_usage\":35953791000,\"usage_in_kernelmode\":10928726000,\"usage_in_usermode\":25025065000},\"system_cpu_usage\":43717390000000,\"online_cpus\":8,\"throttling_data\":{\"periods\":0,\"throttled_periods\":0,\"throttled_time\":0}},\"memory_stats\":{\"usage\":2072231936,\"stats\":{\"active_anon\":658452480,\"active_file\":299003904,\"anon\":647979008,\"anon_thp\":0,\"file\":1363992576,\"file_dirty\":0,\"file_mapped\":230514688,\"file_writeback\":0,\"inactive_anon\":0,\"inactive_file\":1054498816,\"kernel_stack\":409600,\"pgactivate\":0,\"pgdeactivate\":0,\"pgfault\":221482,\"pglazyfree\":0,\"pglazyfreed\":0,\"pgmajfault\":1738,\"pgrefill\":0,\"pgscan\":0,\"pgsteal\":0,\"shmem\":10489856,\"slab\":56658432,\"slab_reclaimable\":55379664,\"slab_unreclaimable\":1278768,\"sock\":16384,\"thp_collapse_alloc\":0,\"thp_fault_alloc\":0,\"unevictable\":16384,\"workingset_activate\":0,\"workingset_nodereclaim\":0,\"workingset_refault\":0},\"limit\":41911865344},\"name\":\"/speech2text-whsiper-small\",\"id\":\"06de068042bd304372856ca1bff0de8facb3731aa33a3097dbd483d152dc9d3f\",\"networks\":{\"eth0\":{\"rx_bytes\":981293325,\"rx_packets\":127754,\"rx_errors\":0,\"rx_dropped\":0,\"tx_bytes\":5751174,\"tx_packets\":76647,\"tx_errors\":0,\"tx_dropped\":0}}}\\n'\n",
      "b'{\"read\":\"2024-06-19T10:45:23.68432193Z\",\"preread\":\"2024-06-19T10:45:22.682909961Z\",\"pids_stats\":{\"current\":25,\"limit\":47889},\"blkio_stats\":{\"io_service_bytes_recursive\":[{\"major\":259,\"minor\":2,\"op\":\"read\",\"value\":381169664},{\"major\":259,\"minor\":2,\"op\":\"write\",\"value\":972136448}],\"io_serviced_recursive\":null,\"io_queue_recursive\":null,\"io_service_time_recursive\":null,\"io_wait_time_recursive\":null,\"io_merged_recursive\":null,\"io_time_recursive\":null,\"sectors_recursive\":null},\"num_procs\":0,\"storage_stats\":{},\"cpu_stats\":{\"cpu_usage\":{\"total_usage\":35985341000,\"usage_in_kernelmode\":10940547000,\"usage_in_usermode\":25044794000},\"system_cpu_usage\":43733170000000,\"online_cpus\":8,\"throttling_data\":{\"periods\":0,\"throttled_periods\":0,\"throttled_time\":0}},\"precpu_stats\":{\"cpu_usage\":{\"total_usage\":35970261000,\"usage_in_kernelmode\":10933732000,\"usage_in_usermode\":25036528000},\"system_cpu_usage\":43725340000000,\"online_cpus\":8,\"throttling_data\":{\"periods\":0,\"throttled_periods\":0,\"throttled_time\":0}},\"memory_stats\":{\"usage\":2072231936,\"stats\":{\"active_anon\":658452480,\"active_file\":299003904,\"anon\":647979008,\"anon_thp\":0,\"file\":1363992576,\"file_dirty\":0,\"file_mapped\":230514688,\"file_writeback\":0,\"inactive_anon\":0,\"inactive_file\":1054498816,\"kernel_stack\":409600,\"pgactivate\":0,\"pgdeactivate\":0,\"pgfault\":221482,\"pglazyfree\":0,\"pglazyfreed\":0,\"pgmajfault\":1738,\"pgrefill\":0,\"pgscan\":0,\"pgsteal\":0,\"shmem\":10489856,\"slab\":56658432,\"slab_reclaimable\":55379664,\"slab_unreclaimable\":1278768,\"sock\":16384,\"thp_collapse_alloc\":0,\"thp_fault_alloc\":0,\"unevictable\":16384,\"workingset_activate\":0,\"workingset_nodereclaim\":0,\"workingset_refault\":0},\"limit\":41911865344},\"name\":\"/speech2text-whsiper-small\",\"id\":\"06de068042bd304372856ca1bff0de8facb3731aa33a3097dbd483d152dc9d3f\",\"networks\":{\"eth0\":{\"rx_bytes\":981293325,\"rx_packets\":127754,\"rx_errors\":0,\"rx_dropped\":0,\"tx_bytes\":5751174,\"tx_packets\":76647,\"tx_errors\":0,\"tx_dropped\":0}}}\\n'\n"
     ]
    },
    {
     "ename": "KeyboardInterrupt",
     "evalue": "",
     "output_type": "error",
     "traceback": [
      "\u001b[0;31m---------------------------------------------------------------------------\u001b[0m",
      "\u001b[0;31mKeyboardInterrupt\u001b[0m                         Traceback (most recent call last)",
      "Cell \u001b[0;32mIn[28], line 1\u001b[0m\n\u001b[0;32m----> 1\u001b[0m \u001b[38;5;28;01mfor\u001b[39;00m i \u001b[38;5;129;01min\u001b[39;00m container\u001b[38;5;241m.\u001b[39mstats(stream\u001b[38;5;241m=\u001b[39m\u001b[38;5;28;01mTrue\u001b[39;00m):\n\u001b[1;32m      2\u001b[0m     \u001b[38;5;28mprint\u001b[39m(i)\n",
      "File \u001b[0;32m~/anaconda3/lib/python3.11/site-packages/docker/api/client.py:365\u001b[0m, in \u001b[0;36mAPIClient._stream_helper\u001b[0;34m(self, response, decode)\u001b[0m\n\u001b[1;32m    362\u001b[0m reader \u001b[38;5;241m=\u001b[39m response\u001b[38;5;241m.\u001b[39mraw\n\u001b[1;32m    363\u001b[0m \u001b[38;5;28;01mwhile\u001b[39;00m \u001b[38;5;129;01mnot\u001b[39;00m reader\u001b[38;5;241m.\u001b[39mclosed:\n\u001b[1;32m    364\u001b[0m     \u001b[38;5;66;03m# this read call will block until we get a chunk\u001b[39;00m\n\u001b[0;32m--> 365\u001b[0m     data \u001b[38;5;241m=\u001b[39m reader\u001b[38;5;241m.\u001b[39mread(\u001b[38;5;241m1\u001b[39m)\n\u001b[1;32m    366\u001b[0m     \u001b[38;5;28;01mif\u001b[39;00m \u001b[38;5;129;01mnot\u001b[39;00m data:\n\u001b[1;32m    367\u001b[0m         \u001b[38;5;28;01mbreak\u001b[39;00m\n",
      "File \u001b[0;32m~/anaconda3/lib/python3.11/site-packages/urllib3/response.py:935\u001b[0m, in \u001b[0;36mHTTPResponse.read\u001b[0;34m(self, amt, decode_content, cache_content)\u001b[0m\n\u001b[1;32m    932\u001b[0m     \u001b[38;5;28;01mif\u001b[39;00m \u001b[38;5;28mlen\u001b[39m(\u001b[38;5;28mself\u001b[39m\u001b[38;5;241m.\u001b[39m_decoded_buffer) \u001b[38;5;241m>\u001b[39m\u001b[38;5;241m=\u001b[39m amt:\n\u001b[1;32m    933\u001b[0m         \u001b[38;5;28;01mreturn\u001b[39;00m \u001b[38;5;28mself\u001b[39m\u001b[38;5;241m.\u001b[39m_decoded_buffer\u001b[38;5;241m.\u001b[39mget(amt)\n\u001b[0;32m--> 935\u001b[0m data \u001b[38;5;241m=\u001b[39m \u001b[38;5;28mself\u001b[39m\u001b[38;5;241m.\u001b[39m_raw_read(amt)\n\u001b[1;32m    937\u001b[0m flush_decoder \u001b[38;5;241m=\u001b[39m amt \u001b[38;5;129;01mis\u001b[39;00m \u001b[38;5;28;01mNone\u001b[39;00m \u001b[38;5;129;01mor\u001b[39;00m (amt \u001b[38;5;241m!=\u001b[39m \u001b[38;5;241m0\u001b[39m \u001b[38;5;129;01mand\u001b[39;00m \u001b[38;5;129;01mnot\u001b[39;00m data)\n\u001b[1;32m    939\u001b[0m \u001b[38;5;28;01mif\u001b[39;00m \u001b[38;5;129;01mnot\u001b[39;00m data \u001b[38;5;129;01mand\u001b[39;00m \u001b[38;5;28mlen\u001b[39m(\u001b[38;5;28mself\u001b[39m\u001b[38;5;241m.\u001b[39m_decoded_buffer) \u001b[38;5;241m==\u001b[39m \u001b[38;5;241m0\u001b[39m:\n",
      "File \u001b[0;32m~/anaconda3/lib/python3.11/site-packages/urllib3/response.py:862\u001b[0m, in \u001b[0;36mHTTPResponse._raw_read\u001b[0;34m(self, amt, read1)\u001b[0m\n\u001b[1;32m    859\u001b[0m fp_closed \u001b[38;5;241m=\u001b[39m \u001b[38;5;28mgetattr\u001b[39m(\u001b[38;5;28mself\u001b[39m\u001b[38;5;241m.\u001b[39m_fp, \u001b[38;5;124m\"\u001b[39m\u001b[38;5;124mclosed\u001b[39m\u001b[38;5;124m\"\u001b[39m, \u001b[38;5;28;01mFalse\u001b[39;00m)\n\u001b[1;32m    861\u001b[0m \u001b[38;5;28;01mwith\u001b[39;00m \u001b[38;5;28mself\u001b[39m\u001b[38;5;241m.\u001b[39m_error_catcher():\n\u001b[0;32m--> 862\u001b[0m     data \u001b[38;5;241m=\u001b[39m \u001b[38;5;28mself\u001b[39m\u001b[38;5;241m.\u001b[39m_fp_read(amt, read1\u001b[38;5;241m=\u001b[39mread1) \u001b[38;5;28;01mif\u001b[39;00m \u001b[38;5;129;01mnot\u001b[39;00m fp_closed \u001b[38;5;28;01melse\u001b[39;00m \u001b[38;5;124mb\u001b[39m\u001b[38;5;124m\"\u001b[39m\u001b[38;5;124m\"\u001b[39m\n\u001b[1;32m    863\u001b[0m     \u001b[38;5;28;01mif\u001b[39;00m amt \u001b[38;5;129;01mis\u001b[39;00m \u001b[38;5;129;01mnot\u001b[39;00m \u001b[38;5;28;01mNone\u001b[39;00m \u001b[38;5;129;01mand\u001b[39;00m amt \u001b[38;5;241m!=\u001b[39m \u001b[38;5;241m0\u001b[39m \u001b[38;5;129;01mand\u001b[39;00m \u001b[38;5;129;01mnot\u001b[39;00m data:\n\u001b[1;32m    864\u001b[0m         \u001b[38;5;66;03m# Platform-specific: Buggy versions of Python.\u001b[39;00m\n\u001b[1;32m    865\u001b[0m         \u001b[38;5;66;03m# Close the connection when no data is returned\u001b[39;00m\n\u001b[0;32m   (...)\u001b[0m\n\u001b[1;32m    870\u001b[0m         \u001b[38;5;66;03m# not properly close the connection in all cases. There is\u001b[39;00m\n\u001b[1;32m    871\u001b[0m         \u001b[38;5;66;03m# no harm in redundantly calling close.\u001b[39;00m\n\u001b[1;32m    872\u001b[0m         \u001b[38;5;28mself\u001b[39m\u001b[38;5;241m.\u001b[39m_fp\u001b[38;5;241m.\u001b[39mclose()\n",
      "File \u001b[0;32m~/anaconda3/lib/python3.11/site-packages/urllib3/response.py:845\u001b[0m, in \u001b[0;36mHTTPResponse._fp_read\u001b[0;34m(self, amt, read1)\u001b[0m\n\u001b[1;32m    842\u001b[0m     \u001b[38;5;28;01mreturn\u001b[39;00m \u001b[38;5;28mself\u001b[39m\u001b[38;5;241m.\u001b[39m_fp\u001b[38;5;241m.\u001b[39mread1(amt) \u001b[38;5;28;01mif\u001b[39;00m amt \u001b[38;5;129;01mis\u001b[39;00m \u001b[38;5;129;01mnot\u001b[39;00m \u001b[38;5;28;01mNone\u001b[39;00m \u001b[38;5;28;01melse\u001b[39;00m \u001b[38;5;28mself\u001b[39m\u001b[38;5;241m.\u001b[39m_fp\u001b[38;5;241m.\u001b[39mread1()\n\u001b[1;32m    843\u001b[0m \u001b[38;5;28;01melse\u001b[39;00m:\n\u001b[1;32m    844\u001b[0m     \u001b[38;5;66;03m# StringIO doesn't like amt=None\u001b[39;00m\n\u001b[0;32m--> 845\u001b[0m     \u001b[38;5;28;01mreturn\u001b[39;00m \u001b[38;5;28mself\u001b[39m\u001b[38;5;241m.\u001b[39m_fp\u001b[38;5;241m.\u001b[39mread(amt) \u001b[38;5;28;01mif\u001b[39;00m amt \u001b[38;5;129;01mis\u001b[39;00m \u001b[38;5;129;01mnot\u001b[39;00m \u001b[38;5;28;01mNone\u001b[39;00m \u001b[38;5;28;01melse\u001b[39;00m \u001b[38;5;28mself\u001b[39m\u001b[38;5;241m.\u001b[39m_fp\u001b[38;5;241m.\u001b[39mread()\n",
      "File \u001b[0;32m~/anaconda3/lib/python3.11/http/client.py:467\u001b[0m, in \u001b[0;36mHTTPResponse.read\u001b[0;34m(self, amt)\u001b[0m\n\u001b[1;32m    464\u001b[0m     \u001b[38;5;28;01mreturn\u001b[39;00m \u001b[38;5;124mb\u001b[39m\u001b[38;5;124m\"\u001b[39m\u001b[38;5;124m\"\u001b[39m\n\u001b[1;32m    466\u001b[0m \u001b[38;5;28;01mif\u001b[39;00m \u001b[38;5;28mself\u001b[39m\u001b[38;5;241m.\u001b[39mchunked:\n\u001b[0;32m--> 467\u001b[0m     \u001b[38;5;28;01mreturn\u001b[39;00m \u001b[38;5;28mself\u001b[39m\u001b[38;5;241m.\u001b[39m_read_chunked(amt)\n\u001b[1;32m    469\u001b[0m \u001b[38;5;28;01mif\u001b[39;00m amt \u001b[38;5;129;01mis\u001b[39;00m \u001b[38;5;129;01mnot\u001b[39;00m \u001b[38;5;28;01mNone\u001b[39;00m:\n\u001b[1;32m    470\u001b[0m     \u001b[38;5;28;01mif\u001b[39;00m \u001b[38;5;28mself\u001b[39m\u001b[38;5;241m.\u001b[39mlength \u001b[38;5;129;01mis\u001b[39;00m \u001b[38;5;129;01mnot\u001b[39;00m \u001b[38;5;28;01mNone\u001b[39;00m \u001b[38;5;129;01mand\u001b[39;00m amt \u001b[38;5;241m>\u001b[39m \u001b[38;5;28mself\u001b[39m\u001b[38;5;241m.\u001b[39mlength:\n\u001b[1;32m    471\u001b[0m         \u001b[38;5;66;03m# clip the read to the \"end of response\"\u001b[39;00m\n",
      "File \u001b[0;32m~/anaconda3/lib/python3.11/http/client.py:590\u001b[0m, in \u001b[0;36mHTTPResponse._read_chunked\u001b[0;34m(self, amt)\u001b[0m\n\u001b[1;32m    588\u001b[0m \u001b[38;5;28;01mtry\u001b[39;00m:\n\u001b[1;32m    589\u001b[0m     \u001b[38;5;28;01mwhile\u001b[39;00m \u001b[38;5;28;01mTrue\u001b[39;00m:\n\u001b[0;32m--> 590\u001b[0m         chunk_left \u001b[38;5;241m=\u001b[39m \u001b[38;5;28mself\u001b[39m\u001b[38;5;241m.\u001b[39m_get_chunk_left()\n\u001b[1;32m    591\u001b[0m         \u001b[38;5;28;01mif\u001b[39;00m chunk_left \u001b[38;5;129;01mis\u001b[39;00m \u001b[38;5;28;01mNone\u001b[39;00m:\n\u001b[1;32m    592\u001b[0m             \u001b[38;5;28;01mbreak\u001b[39;00m\n",
      "File \u001b[0;32m~/anaconda3/lib/python3.11/http/client.py:573\u001b[0m, in \u001b[0;36mHTTPResponse._get_chunk_left\u001b[0;34m(self)\u001b[0m\n\u001b[1;32m    571\u001b[0m     \u001b[38;5;28mself\u001b[39m\u001b[38;5;241m.\u001b[39m_safe_read(\u001b[38;5;241m2\u001b[39m)  \u001b[38;5;66;03m# toss the CRLF at the end of the chunk\u001b[39;00m\n\u001b[1;32m    572\u001b[0m \u001b[38;5;28;01mtry\u001b[39;00m:\n\u001b[0;32m--> 573\u001b[0m     chunk_left \u001b[38;5;241m=\u001b[39m \u001b[38;5;28mself\u001b[39m\u001b[38;5;241m.\u001b[39m_read_next_chunk_size()\n\u001b[1;32m    574\u001b[0m \u001b[38;5;28;01mexcept\u001b[39;00m \u001b[38;5;167;01mValueError\u001b[39;00m:\n\u001b[1;32m    575\u001b[0m     \u001b[38;5;28;01mraise\u001b[39;00m IncompleteRead(\u001b[38;5;124mb\u001b[39m\u001b[38;5;124m'\u001b[39m\u001b[38;5;124m'\u001b[39m)\n",
      "File \u001b[0;32m~/anaconda3/lib/python3.11/http/client.py:533\u001b[0m, in \u001b[0;36mHTTPResponse._read_next_chunk_size\u001b[0;34m(self)\u001b[0m\n\u001b[1;32m    531\u001b[0m \u001b[38;5;28;01mdef\u001b[39;00m \u001b[38;5;21m_read_next_chunk_size\u001b[39m(\u001b[38;5;28mself\u001b[39m):\n\u001b[1;32m    532\u001b[0m     \u001b[38;5;66;03m# Read the next chunk size from the file\u001b[39;00m\n\u001b[0;32m--> 533\u001b[0m     line \u001b[38;5;241m=\u001b[39m \u001b[38;5;28mself\u001b[39m\u001b[38;5;241m.\u001b[39mfp\u001b[38;5;241m.\u001b[39mreadline(_MAXLINE \u001b[38;5;241m+\u001b[39m \u001b[38;5;241m1\u001b[39m)\n\u001b[1;32m    534\u001b[0m     \u001b[38;5;28;01mif\u001b[39;00m \u001b[38;5;28mlen\u001b[39m(line) \u001b[38;5;241m>\u001b[39m _MAXLINE:\n\u001b[1;32m    535\u001b[0m         \u001b[38;5;28;01mraise\u001b[39;00m LineTooLong(\u001b[38;5;124m\"\u001b[39m\u001b[38;5;124mchunk size\u001b[39m\u001b[38;5;124m\"\u001b[39m)\n",
      "File \u001b[0;32m~/anaconda3/lib/python3.11/socket.py:706\u001b[0m, in \u001b[0;36mSocketIO.readinto\u001b[0;34m(self, b)\u001b[0m\n\u001b[1;32m    704\u001b[0m \u001b[38;5;28;01mwhile\u001b[39;00m \u001b[38;5;28;01mTrue\u001b[39;00m:\n\u001b[1;32m    705\u001b[0m     \u001b[38;5;28;01mtry\u001b[39;00m:\n\u001b[0;32m--> 706\u001b[0m         \u001b[38;5;28;01mreturn\u001b[39;00m \u001b[38;5;28mself\u001b[39m\u001b[38;5;241m.\u001b[39m_sock\u001b[38;5;241m.\u001b[39mrecv_into(b)\n\u001b[1;32m    707\u001b[0m     \u001b[38;5;28;01mexcept\u001b[39;00m timeout:\n\u001b[1;32m    708\u001b[0m         \u001b[38;5;28mself\u001b[39m\u001b[38;5;241m.\u001b[39m_timeout_occurred \u001b[38;5;241m=\u001b[39m \u001b[38;5;28;01mTrue\u001b[39;00m\n",
      "\u001b[0;31mKeyboardInterrupt\u001b[0m: "
     ]
    }
   ],
   "source": [
    "for i in container.stats(stream=True):\n",
    "    print(i)"
   ]
  },
  {
   "cell_type": "code",
   "execution_count": 29,
   "metadata": {},
   "outputs": [
    {
     "data": {
      "text/plain": [
       "{'Processes': [['root',\n",
       "   '7564',\n",
       "   '7543',\n",
       "   '0',\n",
       "   '12:34',\n",
       "   '?',\n",
       "   '00:00:02',\n",
       "   '/usr/local/bin/python3 /usr/local/bin/uvicorn api.main:app --host 0.0.0.0 --port 8000 --reload --ssl-keyfile ssl/local_key.pem --ssl-certfile ssl/local_cert.pem'],\n",
       "  ['root',\n",
       "   '7602',\n",
       "   '7564',\n",
       "   '0',\n",
       "   '12:34',\n",
       "   '?',\n",
       "   '00:00:00',\n",
       "   '/usr/local/bin/python3 -c from multiprocessing.resource_tracker import main;main(4)'],\n",
       "  ['root',\n",
       "   '7603',\n",
       "   '7564',\n",
       "   '0',\n",
       "   '12:34',\n",
       "   '?',\n",
       "   '00:00:33',\n",
       "   '/usr/local/bin/python3 -c from multiprocessing.spawn import spawn_main; spawn_main(tracker_fd=5, pipe_handle=7) --multiprocessing-fork']],\n",
       " 'Titles': ['UID', 'PID', 'PPID', 'C', 'STIME', 'TTY', 'TIME', 'CMD']}"
      ]
     },
     "execution_count": 29,
     "metadata": {},
     "output_type": "execute_result"
    }
   ],
   "source": [
    "container.top()"
   ]
  },
  {
   "cell_type": "code",
   "execution_count": 4,
   "metadata": {},
   "outputs": [
    {
     "data": {
      "text/plain": [
       "{'speech2text-whisper-small': '8002', 'speech2text-whisper-medium': '8003'}"
      ]
     },
     "execution_count": 4,
     "metadata": {},
     "output_type": "execute_result"
    }
   ],
   "source": [
    "import yaml\n",
    "\n",
    "docker_compose_file = \"\"\"\n",
    "version: '3.8'\n",
    "\n",
    "services:\n",
    "  backend:\n",
    "    image: dimkablin/s2t-factory-backend\n",
    "    environment:\n",
    "      - SSL_KEY=/app/ssl/local_key.pem\n",
    "      - SSL_CERT=/app/ssl/local_cert.pem\n",
    "    volumes:\n",
    "      - ./backend/ssl:/app/ssl:ro\n",
    "      - ./backend/.env:/app/.env:ro\n",
    "      - /var/run/docker.sock:/var/run/docker.sock\n",
    "    ports:\n",
    "      - \"8000:8000\"\n",
    "    networks:\n",
    "      - app-network\n",
    "\n",
    "  frontend:\n",
    "    image: dimkablin/s2t-factory-frontend\n",
    "    environment:\n",
    "      - SSL_KEY=/app/ssl/local_key.pem\n",
    "      - SSL_CERT=/app/ssl/local_cert.pem\n",
    "    volumes:\n",
    "      - ./frontend/ssl:/app/ssl:ro\n",
    "      - ./frontend/.env:/app/.env:ro\n",
    "    ports:\n",
    "      - \"8001:8001\"\n",
    "    networks:\n",
    "      - app-network\n",
    "    depends_on:\n",
    "      - backend\n",
    "    \n",
    "  speech2text-whisper-small:\n",
    "    image: dimkablin/speech2text\n",
    "    environment:\n",
    "      - MODEL_NAME=openai/whisper-small\n",
    "      - USE_CUDA=True\n",
    "      - PORT=8002\n",
    "  \n",
    "  speech2text-whisper-medium:\n",
    "    image: dimkablin/speech2text\n",
    "    environment:\n",
    "      - MODEL_NAME=openai/whisper-medium\n",
    "      - USE_CUDA=True\n",
    "      - PORT=8003\n",
    "\"\"\"\n",
    "\n",
    "def get_speech2text_urls(file_path):\n",
    "    with open(file_path, 'r') as file:\n",
    "      yaml_content = file.read()\n",
    "\n",
    "    data = yaml.safe_load(yaml_content)\n",
    "    services = data['services']\n",
    "    urls = {}\n",
    "\n",
    "    for service_name, service_data in services.items():\n",
    "        if 'speech2text' in service_name:\n",
    "            port = None\n",
    "            if 'ports' in service_data:\n",
    "                port = service_data['ports'][0].split(':')[0]\n",
    "            elif 'environment' in service_data:\n",
    "                for env_var in service_data['environment']:\n",
    "                    if env_var.startswith('PORT='):\n",
    "                        port = env_var.split('=')[1]\n",
    "                        break\n",
    "            \n",
    "            if port:\n",
    "                urls[service_name] = port\n",
    "    \n",
    "    return urls\n",
    "\n",
    "urls = get_speech2text_urls(\"../../docker-compose.yml\")\n",
    "urls"
   ]
  },
  {
   "cell_type": "code",
   "execution_count": 5,
   "metadata": {},
   "outputs": [
    {
     "data": {
      "text/plain": [
       "['speech2text-whisper-small', 'speech2text-whisper-medium']"
      ]
     },
     "execution_count": 5,
     "metadata": {},
     "output_type": "execute_result"
    }
   ],
   "source": [
    "list(urls.keys())"
   ]
  },
  {
   "cell_type": "code",
   "execution_count": null,
   "metadata": {},
   "outputs": [],
   "source": []
  }
 ],
 "metadata": {
  "kernelspec": {
   "display_name": "base",
   "language": "python",
   "name": "python3"
  },
  "language_info": {
   "codemirror_mode": {
    "name": "ipython",
    "version": 3
   },
   "file_extension": ".py",
   "mimetype": "text/x-python",
   "name": "python",
   "nbconvert_exporter": "python",
   "pygments_lexer": "ipython3",
   "version": "3.11.8"
  }
 },
 "nbformat": 4,
 "nbformat_minor": 2
}
